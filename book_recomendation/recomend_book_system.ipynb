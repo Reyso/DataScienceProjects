{
 "cells": [
  {
   "cell_type": "code",
   "execution_count": null,
   "id": "fb5a80db",
   "metadata": {},
   "outputs": [],
   "source": [
    "# dataframe manipulations\n",
    "import pandas as pd\n",
    "\n",
    "#math\n",
    "from scipy.sparse import csr_matrix\n",
    "import numpy as np\n",
    "\n",
    "#images\n",
    "from IPython.display import display\n",
    "from PIL import Image\n",
    "\n",
    "\n",
    "#Data viz\n",
    "import matplotlib.pyplot as plt\n",
    "import seaborn as sns\n",
    "\n",
    "#models\n",
    "from sklearn.neighbors import NearestNeighbors\n",
    "from sklearn.metrics.pairwise import cosine_similarity \n"
   ]
  },
  {
   "cell_type": "code",
   "execution_count": null,
   "id": "9f92bc5a",
   "metadata": {},
   "outputs": [],
   "source": [
    "book_base = pd.read_csv('data/Books.csv',on_bad_lines='error',encoding='latin-1')\n",
    "user_base = pd.read_csv('data/Users.csv',on_bad_lines='error',encoding='latin-1')\n",
    "rate_base = pd.read_csv('data/Ratings.csv',on_bad_lines='error',encoding='latin-1')"
   ]
  },
  {
   "cell_type": "markdown",
   "id": "a792ea3b",
   "metadata": {},
   "source": [
    "## DA"
   ]
  },
  {
   "cell_type": "code",
   "execution_count": null,
   "id": "69ab4b65",
   "metadata": {},
   "outputs": [],
   "source": [
    "print(f'book possui {book_base.shape[0]} linhas e {book_base.shape[1]} colunas')\n",
    "print(f'user possui {user_base.shape[0]} linhas e {user_base.shape[1]} colunas')\n",
    "print(f'rate possui {rate_base.shape[0]} linhas e {rate_base.shape[1]} colunas')"
   ]
  },
  {
   "cell_type": "markdown",
   "id": "8538521f",
   "metadata": {},
   "source": [
    "### Books dataset"
   ]
  },
  {
   "cell_type": "code",
   "execution_count": null,
   "id": "17bda0f3",
   "metadata": {},
   "outputs": [],
   "source": [
    "book_base.head(2)"
   ]
  },
  {
   "cell_type": "markdown",
   "id": "fcf547b6",
   "metadata": {},
   "source": [
    "Vamos retirar algumas colunas do dataset `book_base`\n"
   ]
  },
  {
   "cell_type": "code",
   "execution_count": null,
   "id": "fd67c6da",
   "metadata": {},
   "outputs": [],
   "source": [
    "books = book_base.drop(columns=['Image-URL-S', 'Image-URL-M'])"
   ]
  },
  {
   "cell_type": "code",
   "execution_count": null,
   "id": "fcb9d0a5",
   "metadata": {},
   "outputs": [],
   "source": [
    "books.head(2)"
   ]
  },
  {
   "cell_type": "markdown",
   "id": "1ebf15d1",
   "metadata": {},
   "source": [
    "Para facilitar a manipulação dos dados, irei renomear algumas colunas"
   ]
  },
  {
   "cell_type": "code",
   "execution_count": null,
   "id": "3f249e59",
   "metadata": {},
   "outputs": [],
   "source": [
    "books = books.rename(columns={\n",
    "    'Book-Title' : 'title',\n",
    "    'Book-Author': 'author',\n",
    "    'Year-Of-Publication': 'year',\n",
    "    'Publisher': 'publisher'   \n",
    "    \n",
    "})"
   ]
  },
  {
   "cell_type": "code",
   "execution_count": null,
   "id": "a2593870",
   "metadata": {},
   "outputs": [],
   "source": [
    "books.head(2)"
   ]
  },
  {
   "cell_type": "code",
   "execution_count": null,
   "id": "70dd7f0d",
   "metadata": {},
   "outputs": [],
   "source": [
    "books.info()"
   ]
  },
  {
   "cell_type": "markdown",
   "id": "56443387",
   "metadata": {},
   "source": [
    "### User dataset"
   ]
  },
  {
   "cell_type": "code",
   "execution_count": null,
   "id": "a332440b",
   "metadata": {},
   "outputs": [],
   "source": [
    "user_base.info()"
   ]
  },
  {
   "cell_type": "code",
   "execution_count": null,
   "id": "331702a3",
   "metadata": {},
   "outputs": [],
   "source": [
    "user_base.shape"
   ]
  },
  {
   "cell_type": "code",
   "execution_count": null,
   "id": "7190190d",
   "metadata": {},
   "outputs": [],
   "source": [
    "user = user_base"
   ]
  },
  {
   "cell_type": "code",
   "execution_count": null,
   "id": "5ee7d083",
   "metadata": {},
   "outputs": [],
   "source": [
    "user.columns"
   ]
  },
  {
   "cell_type": "code",
   "execution_count": null,
   "id": "751db059",
   "metadata": {},
   "outputs": [],
   "source": [
    "user = user.rename(columns={\n",
    "    'User-ID':'user-id',\n",
    "    'Location':'location',\n",
    "    'Age':'age'\n",
    "    \n",
    "})"
   ]
  },
  {
   "cell_type": "code",
   "execution_count": null,
   "id": "b9bc3a5b",
   "metadata": {},
   "outputs": [],
   "source": [
    "user.head(2)"
   ]
  },
  {
   "cell_type": "markdown",
   "id": "39dfa155",
   "metadata": {},
   "source": [
    "### Rating"
   ]
  },
  {
   "cell_type": "code",
   "execution_count": null,
   "id": "449549d1",
   "metadata": {},
   "outputs": [],
   "source": [
    "rate_base.shape"
   ]
  },
  {
   "cell_type": "code",
   "execution_count": null,
   "id": "27adbca7",
   "metadata": {},
   "outputs": [],
   "source": [
    "rate_base.info()"
   ]
  },
  {
   "cell_type": "code",
   "execution_count": null,
   "id": "08781ce4",
   "metadata": {},
   "outputs": [],
   "source": [
    "rate_base['User-ID'] = rate_base['User-ID'].astype('object')"
   ]
  },
  {
   "cell_type": "code",
   "execution_count": null,
   "id": "1b7f8787",
   "metadata": {},
   "outputs": [],
   "source": [
    "rating= rate_base"
   ]
  },
  {
   "cell_type": "code",
   "execution_count": null,
   "id": "473aed33",
   "metadata": {},
   "outputs": [],
   "source": [
    "rating['Book-Rating'].value_counts().sort_values(ascending = False)"
   ]
  },
  {
   "cell_type": "code",
   "execution_count": null,
   "id": "8c708279",
   "metadata": {},
   "outputs": [],
   "source": [
    "rating = rating.rename(columns={\n",
    "    'User-ID':'user-id',\n",
    "    'Book-Rating':'rating'\n",
    "    \n",
    "})"
   ]
  },
  {
   "cell_type": "markdown",
   "id": "a61727b6",
   "metadata": {},
   "source": [
    "###  Top 5 usuários que mais avaliaram Quantidade de avaliações por usuário"
   ]
  },
  {
   "cell_type": "code",
   "execution_count": null,
   "id": "6c1f95d7",
   "metadata": {},
   "outputs": [],
   "source": [
    "rating['user-id'].value_counts()[:5]\n"
   ]
  },
  {
   "cell_type": "code",
   "execution_count": null,
   "id": "93199681",
   "metadata": {},
   "outputs": [],
   "source": [
    "top5 = rating['user-id'].value_counts()[:5].reset_index().rename(columns = {'index':'number_review'})"
   ]
  },
  {
   "cell_type": "code",
   "execution_count": null,
   "id": "f70a898f",
   "metadata": {},
   "outputs": [],
   "source": [
    "top5 = top5.sort_values(by = 'number_review', ascending = False);top5"
   ]
  },
  {
   "cell_type": "code",
   "execution_count": null,
   "id": "251f22bd",
   "metadata": {},
   "outputs": [],
   "source": [
    "sns.barplot(data = top5, x = 'user-id', y = 'number_review')"
   ]
  },
  {
   "cell_type": "markdown",
   "id": "a267017e",
   "metadata": {},
   "source": [
    "## Filtragem de atributos"
   ]
  },
  {
   "cell_type": "markdown",
   "id": "d42c51a5",
   "metadata": {},
   "source": [
    "Neste momento faremos uma filtragem nos dados, com fito de facilitar a implementação do algorítimo adiante"
   ]
  },
  {
   "cell_type": "markdown",
   "id": "118fe5ae",
   "metadata": {},
   "source": [
    "Como vimos acima, na sessão em que manipulei o dataset `Rating`, temos muitos usuários com poucas avaliações, e isto pode nos gerar um problema no nosso sistema de recomendação. Por tanto, como decisão de negócio iremos filtrar estes clientes "
   ]
  },
  {
   "cell_type": "markdown",
   "id": "4f32e523",
   "metadata": {},
   "source": [
    "### Queremos apenas os usuários com <b>mais de 200 avaliações</b>"
   ]
  },
  {
   "cell_type": "code",
   "execution_count": null,
   "id": "4df2e1ee",
   "metadata": {},
   "outputs": [],
   "source": [
    "x = rating['user-id'].value_counts() > 200 ; x"
   ]
  },
  {
   "cell_type": "code",
   "execution_count": null,
   "id": "38a9edc0",
   "metadata": {},
   "outputs": [],
   "source": [
    "# x em um dataframe\n",
    "x = x.reset_index()\n",
    "#selecionando apenas as colunas verdadeiras\n",
    "x = x.loc[x['user-id'] == True];\n",
    "# lista de usuários\n",
    "user_idx = x['index'].tolist()"
   ]
  },
  {
   "cell_type": "code",
   "execution_count": null,
   "id": "9ed5d3c5",
   "metadata": {},
   "outputs": [],
   "source": [
    "ratings = rating[rating['user-id'].isin(user_idx)];\n",
    "ratings"
   ]
  },
  {
   "cell_type": "markdown",
   "id": "05054ee2",
   "metadata": {},
   "source": [
    "Conseguimos os usuários que se enquadram nesta decisão de negócio"
   ]
  },
  {
   "cell_type": "markdown",
   "id": "5687151e",
   "metadata": {},
   "source": [
    "### Apartir disso, temos como descobrir os nomes dos livros avaliados por cada usuário, a partir de seu identificador `ISBN`"
   ]
  },
  {
   "cell_type": "code",
   "execution_count": null,
   "id": "6cc4d7e0",
   "metadata": {},
   "outputs": [],
   "source": [
    "ratings_books = ratings.merge(books,on = 'ISBN'); ratings_books.head()"
   ]
  },
  {
   "cell_type": "code",
   "execution_count": null,
   "id": "62062794",
   "metadata": {},
   "outputs": [],
   "source": [
    "ratings_books.shape"
   ]
  },
  {
   "cell_type": "markdown",
   "id": "3348dd31",
   "metadata": {},
   "source": [
    "## Livro x Rating\n"
   ]
  },
  {
   "cell_type": "code",
   "execution_count": null,
   "id": "0ae8b02c",
   "metadata": {},
   "outputs": [],
   "source": [
    "#agrupando Livros x Rating\n",
    "num_rating = ratings_books.groupby('title')['rating'].count().reset_index();\n",
    "#renomeando a coluna Rating para num_rating\n",
    "num_rating.rename(columns={'rating':'num_ratings'},inplace = True);num_rating"
   ]
  },
  {
   "cell_type": "code",
   "execution_count": null,
   "id": "d830c147",
   "metadata": {},
   "outputs": [],
   "source": [
    "# Titulos com mais de 50 avaliações\n",
    "num_rating_over50 = num_rating.sort_values(by='num_ratings',ascending=False)\n",
    "num_rating_over50 = num_rating_over50.loc[num_rating_over50['num_ratings']>50]; num_rating_over50"
   ]
  },
  {
   "cell_type": "code",
   "execution_count": null,
   "id": "a4bf0df9",
   "metadata": {},
   "outputs": [],
   "source": [
    "plt.figure(figsize=(10,5))\n",
    "sns.barplot(data = num_rating_over50[:5], x = 'title', y = 'num_ratings')\n",
    "plt.title('top 5 livros mais avaliados')\n",
    "plt.xticks(rotation = 45)"
   ]
  },
  {
   "cell_type": "markdown",
   "id": "20616430",
   "metadata": {},
   "source": [
    "Com este novo atributo `num_ratings` vamos adiciona-lo à tabela de `rating_books` e formar uma tabela completa das features necessárias para o modelo"
   ]
  },
  {
   "cell_type": "code",
   "execution_count": null,
   "id": "e5bd5c24",
   "metadata": {},
   "outputs": [],
   "source": [
    "final_rating = ratings_books.merge(num_rating_over50, on='title'); final_rating"
   ]
  },
  {
   "cell_type": "code",
   "execution_count": null,
   "id": "d9713cb5",
   "metadata": {},
   "outputs": [],
   "source": [
    "final_rating.drop_duplicates(['user-id','title'],inplace=True); final_rating.shape"
   ]
  },
  {
   "cell_type": "markdown",
   "id": "498e2241",
   "metadata": {},
   "source": [
    "## Filtro colaborativo"
   ]
  },
  {
   "cell_type": "markdown",
   "id": "d383eae7",
   "metadata": {},
   "source": [
    "### TEXTO FITLRO COLABORATIVO"
   ]
  },
  {
   "cell_type": "markdown",
   "id": "80511f15",
   "metadata": {},
   "source": [
    "**Como Funciona um Sistema de Recomendação**\n",
    "https://www.youtube.com/live/mtRIGq4nSu4?feature=share&t=721"
   ]
  },
  {
   "cell_type": "code",
   "execution_count": null,
   "id": "21e43a44",
   "metadata": {},
   "outputs": [],
   "source": [
    "img = Image.open('img/ey-bm-recomendacao1v2.jpg');img"
   ]
  },
  {
   "cell_type": "code",
   "execution_count": null,
   "id": "39ea23fb",
   "metadata": {},
   "outputs": [],
   "source": [
    "Fonte: https://www.ey.com/pt_br/strategy-transactions/ey-business-modeling-data-analytics/modelo-de-recomendacao-de-produtos1"
   ]
  },
  {
   "cell_type": "markdown",
   "id": "4a4c0f0c",
   "metadata": {},
   "source": [
    "### Matriz de Usuário x Item"
   ]
  },
  {
   "cell_type": "code",
   "execution_count": null,
   "id": "751ecab9",
   "metadata": {},
   "outputs": [],
   "source": [
    "img2 = Image.open('img/usuario_item.png');img2\n"
   ]
  },
  {
   "cell_type": "markdown",
   "id": "4fcbfef0",
   "metadata": {},
   "source": [
    "Fonte: https://www.sidi.org.br/introducao-aos-sistemas-de-recomendacao/"
   ]
  },
  {
   "cell_type": "code",
   "execution_count": null,
   "id": "bf44c8b1",
   "metadata": {},
   "outputs": [],
   "source": [
    "book_pivot = final_rating.pivot_table(columns='user-id', index= 'title', values= 'rating' );\n",
    "book_pivot"
   ]
  },
  {
   "cell_type": "markdown",
   "id": "bc303ace",
   "metadata": {},
   "source": [
    "Observamos uma grande quantidade de valores `NAN`, pois diversos usuários não tiveram a oportunidade de ler alguns livros"
   ]
  },
  {
   "cell_type": "markdown",
   "id": "ebb7d326",
   "metadata": {},
   "source": [
    "Decidi definir a ausência de avaliação como nota 0"
   ]
  },
  {
   "cell_type": "code",
   "execution_count": null,
   "id": "35f79a77",
   "metadata": {},
   "outputs": [],
   "source": [
    "book_pivot.fillna(0, inplace=True);book_pivot"
   ]
  },
  {
   "cell_type": "markdown",
   "id": "414ba26e",
   "metadata": {},
   "source": [
    "Em casos onde temos matrizes com uma elevada quantidade de valores 0, o ideal é transforma-la em uma matriz esparsa, a fim de melhorar o tempo de execução e armazenamento\n",
    "\n",
    "https://acervolima.com/como-criar-uma-matriz-esparsa-em-python/"
   ]
  },
  {
   "cell_type": "code",
   "execution_count": null,
   "id": "cb65c934",
   "metadata": {},
   "outputs": [],
   "source": [
    "book_user = csr_matrix(book_pivot);\n",
    "book_user"
   ]
  },
  {
   "cell_type": "markdown",
   "id": "43bf158e",
   "metadata": {},
   "source": [
    "# Modelagem "
   ]
  },
  {
   "cell_type": "code",
   "execution_count": 4,
   "id": "466138ca",
   "metadata": {},
   "outputs": [
    {
     "ename": "NameError",
     "evalue": "name 'NearestNeighbors' is not defined",
     "output_type": "error",
     "traceback": [
      "\u001b[0;31m---------------------------------------------------------------------------\u001b[0m",
      "\u001b[0;31mNameError\u001b[0m                                 Traceback (most recent call last)",
      "\u001b[0;32m/tmp/ipykernel_20586/4016566089.py\u001b[0m in \u001b[0;36m<module>\u001b[0;34m\u001b[0m\n\u001b[0;32m----> 1\u001b[0;31m \u001b[0mmodel\u001b[0m \u001b[0;34m=\u001b[0m \u001b[0mNearestNeighbors\u001b[0m\u001b[0;34m(\u001b[0m\u001b[0malgorithm\u001b[0m\u001b[0;34m=\u001b[0m\u001b[0;34m'brute'\u001b[0m\u001b[0;34m)\u001b[0m\u001b[0;34m\u001b[0m\u001b[0;34m\u001b[0m\u001b[0m\n\u001b[0m\u001b[1;32m      2\u001b[0m \u001b[0mmodel\u001b[0m\u001b[0;34m.\u001b[0m\u001b[0mfit\u001b[0m\u001b[0;34m(\u001b[0m\u001b[0mbook_user\u001b[0m\u001b[0;34m)\u001b[0m\u001b[0;34m\u001b[0m\u001b[0;34m\u001b[0m\u001b[0m\n",
      "\u001b[0;31mNameError\u001b[0m: name 'NearestNeighbors' is not defined"
     ]
    }
   ],
   "source": [
    "model = NearestNeighbors(algorithm='brute')\n",
    "model.fit(book_user)"
   ]
  },
  {
   "cell_type": "markdown",
   "id": "737985e4",
   "metadata": {},
   "source": [
    "Este algorítimo retorna 2 valores, distância e sugestão"
   ]
  },
  {
   "cell_type": "markdown",
   "id": "58d794e9",
   "metadata": {},
   "source": [
    "# Predições\n",
    "Passamos para o `model.kneighbors()` o elemento que queremos analizar identificado pela linha"
   ]
  },
  {
   "cell_type": "markdown",
   "id": "0b69f8f4",
   "metadata": {},
   "source": [
    "## NearestNeighbors "
   ]
  },
  {
   "cell_type": "code",
   "execution_count": 5,
   "id": "07a41c3c",
   "metadata": {},
   "outputs": [],
   "source": [
    "titulo = 0 # linha na tabela `book_pivot` que representa o título, neste caso o livro 1984"
   ]
  },
  {
   "cell_type": "code",
   "execution_count": null,
   "id": "5152a026",
   "metadata": {},
   "outputs": [],
   "source": [
    "distance,suggestions = model.kneighbors(book_pivot.iloc[titulo,:].values.reshape(1,-1))"
   ]
  },
  {
   "cell_type": "code",
   "execution_count": null,
   "id": "a9db9d22",
   "metadata": {},
   "outputs": [],
   "source": [
    "for i in range(len(suggestions)):\n",
    "    print(f'Para o livro {(book_pivot.index[suggestions[i]])[0]}: você também vai gostar de : {list(book_pivot.index[suggestions[i]][1:])}')"
   ]
  },
  {
   "cell_type": "code",
   "execution_count": null,
   "id": "78e3d963",
   "metadata": {},
   "outputs": [],
   "source": [
    "def recommend_nn(book_name):\n",
    "    index = np.where(book_pivot.index==book_name)[0][0] #obtendo o nome do livro\n",
    "    distance , suggestions = model.kneighbors(book_pivot.iloc[index,:].values.reshape(1,-1),n_neighbors=6) #6 vizinhos mais próximos\n",
    "    \n",
    "    for i in range(len(suggestions)):\n",
    "        books = book_pivot.index[suggestions[i]]\n",
    "        print(f'Você leu: {book_name}, também vai gostar de:')\n",
    "        for j in books[1:]:\n",
    "            print(j)"
   ]
  },
  {
   "cell_type": "code",
   "execution_count": null,
   "id": "af8f933a",
   "metadata": {},
   "outputs": [],
   "source": [
    "recommend_nn('The Da Vinci Code')"
   ]
  },
  {
   "cell_type": "markdown",
   "id": "0008399c",
   "metadata": {},
   "source": [
    "## Similaridade dos cosenos"
   ]
  },
  {
   "cell_type": "code",
   "execution_count": null,
   "id": "76b07fdb",
   "metadata": {},
   "outputs": [],
   "source": [
    "similarity_score = cosine_similarity(book_user)"
   ]
  },
  {
   "cell_type": "code",
   "execution_count": null,
   "id": "25bed63e",
   "metadata": {},
   "outputs": [],
   "source": [
    "def recommend_sc(book_name):\n",
    "    index = np.where(book_pivot.index==book_name)[0][0]\n",
    "    similar_books = sorted(list(enumerate(similarity_score[index])),key=lambda x:x[1], reverse=True)[1:6]\n",
    "    \n",
    "    data = []\n",
    "    \n",
    "    for i in similar_books:\n",
    "        item = []\n",
    "        temp_df = books[books['title'] == book_pivot.index[i[0]]]\n",
    "        item.extend(list(temp_df.drop_duplicates('title')['title'].values))\n",
    "        item.extend(list(temp_df.drop_duplicates('title')['author'].values))\n",
    "        item.extend(list(temp_df.drop_duplicates('title')['Image-URL-L'].values))\n",
    "        \n",
    "        data.append(item)\n",
    "        #for j in data:\n",
    "         #   print(j)\n",
    "    msg = f'Você leu {book_name}, também vai gostar de:'\n",
    "        \n",
    "        \n",
    "    return msg, data"
   ]
  },
  {
   "cell_type": "code",
   "execution_count": null,
   "id": "8a9afbca",
   "metadata": {},
   "outputs": [],
   "source": [
    "recommend_sc('The Da Vinci Code')"
   ]
  },
  {
   "cell_type": "markdown",
   "id": "58fe47d4",
   "metadata": {},
   "source": [
    "# Persistência do modelo\n"
   ]
  },
  {
   "cell_type": "code",
   "execution_count": 6,
   "id": "fb158376",
   "metadata": {},
   "outputs": [
    {
     "ename": "NameError",
     "evalue": "name 'book_pivot' is not defined",
     "output_type": "error",
     "traceback": [
      "\u001b[0;31m---------------------------------------------------------------------------\u001b[0m",
      "\u001b[0;31mNameError\u001b[0m                                 Traceback (most recent call last)",
      "\u001b[0;32m/tmp/ipykernel_20586/141021499.py\u001b[0m in \u001b[0;36m<module>\u001b[0;34m\u001b[0m\n\u001b[0;32m----> 1\u001b[0;31m \u001b[0mbook_name\u001b[0m \u001b[0;34m=\u001b[0m \u001b[0mbook_pivot\u001b[0m\u001b[0;34m.\u001b[0m\u001b[0mindex\u001b[0m\u001b[0;34m\u001b[0m\u001b[0;34m\u001b[0m\u001b[0m\n\u001b[0m",
      "\u001b[0;31mNameError\u001b[0m: name 'book_pivot' is not defined"
     ]
    }
   ],
   "source": [
    "book_name = book_pivot.index"
   ]
  },
  {
   "cell_type": "code",
   "execution_count": null,
   "id": "21233256",
   "metadata": {},
   "outputs": [],
   "source": [
    "import pickle\n",
    "pickle.dump(model,open('models/model.pkl','wb'))\n",
    "pickle.dump(book_name,open('models/book_name.pkl','wb'))\n",
    "pickle.dump(book_pivot,open('models/book_pivot.pkl','wb'))\n",
    "pickle.dump(final_rating,open('models/final_rating.pkl','wb'))\n"
   ]
  }
 ],
 "metadata": {
  "kernelspec": {
   "display_name": "Python 3 (ipykernel)",
   "language": "python",
   "name": "python3"
  },
  "language_info": {
   "codemirror_mode": {
    "name": "ipython",
    "version": 3
   },
   "file_extension": ".py",
   "mimetype": "text/x-python",
   "name": "python",
   "nbconvert_exporter": "python",
   "pygments_lexer": "ipython3",
   "version": "3.10.6"
  }
 },
 "nbformat": 4,
 "nbformat_minor": 5
}
