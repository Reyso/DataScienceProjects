{
 "cells": [
  {
   "cell_type": "code",
   "execution_count": 1,
   "id": "marked-interval",
   "metadata": {
    "_cell_guid": "b1076dfc-b9ad-4769-8c92-a6c4dae69d19",
    "_uuid": "8f2839f25d086af736a60e9eeb907d3b93b6e0e5",
    "execution": {
     "iopub.execute_input": "2022-12-31T01:35:06.919350Z",
     "iopub.status.busy": "2022-12-31T01:35:06.918667Z",
     "iopub.status.idle": "2022-12-31T01:35:06.925696Z",
     "shell.execute_reply": "2022-12-31T01:35:06.924922Z",
     "shell.execute_reply.started": "2022-12-31T01:05:21.796738Z"
    },
    "papermill": {
     "duration": 0.05498,
     "end_time": "2022-12-31T01:35:06.925888",
     "exception": false,
     "start_time": "2022-12-31T01:35:06.870908",
     "status": "completed"
    },
    "tags": []
   },
   "outputs": [
    {
     "name": "stdout",
     "output_type": "stream",
     "text": [
      "/kaggle/input/house-prices-advanced-regression-techniques/sample_submission.csv\n",
      "/kaggle/input/house-prices-advanced-regression-techniques/data_description.txt\n",
      "/kaggle/input/house-prices-advanced-regression-techniques/train.csv\n",
      "/kaggle/input/house-prices-advanced-regression-techniques/test.csv\n"
     ]
    }
   ],
   "source": [
    "# This Python 3 environment comes with many helpful analytics libraries installed\n",
    "# It is defined by the kaggle/python Docker image: https://github.com/kaggle/docker-python\n",
    "# For example, here's several helpful packages to load\n",
    "\n",
    "import numpy as np # linear algebra\n",
    "import pandas as pd # data processing, CSV file I/O (e.g. pd.read_csv)\n",
    "\n",
    "# Input data files are available in the read-only \"../input/\" directory\n",
    "# For example, running this (by clicking run or pressing Shift+Enter) will list all files under the input directory\n",
    "\n",
    "import os\n",
    "for dirname, _, filenames in os.walk('/kaggle/input'):\n",
    "    for filename in filenames:\n",
    "        print(os.path.join(dirname, filename))\n",
    "\n",
    "# You can write up to 20GB to the current directory (/kaggle/working/) that gets preserved as output when you create a version using \"Save & Run All\" \n",
    "# You can also write temporary files to /kaggle/temp/, but they won't be saved outside of the current session"
   ]
  },
  {
   "cell_type": "markdown",
   "id": "ready-volume",
   "metadata": {
    "papermill": {
     "duration": 0.035163,
     "end_time": "2022-12-31T01:35:06.999148",
     "exception": false,
     "start_time": "2022-12-31T01:35:06.963985",
     "status": "completed"
    },
    "tags": []
   },
   "source": [
    "## Carregando os dados"
   ]
  },
  {
   "cell_type": "code",
   "execution_count": 2,
   "id": "referenced-robinson",
   "metadata": {
    "execution": {
     "iopub.execute_input": "2022-12-31T01:35:07.085233Z",
     "iopub.status.busy": "2022-12-31T01:35:07.084135Z",
     "iopub.status.idle": "2022-12-31T01:35:08.490506Z",
     "shell.execute_reply": "2022-12-31T01:35:08.491053Z",
     "shell.execute_reply.started": "2022-12-31T01:05:21.817919Z"
    },
    "papermill": {
     "duration": 1.456813,
     "end_time": "2022-12-31T01:35:08.491265",
     "exception": false,
     "start_time": "2022-12-31T01:35:07.034452",
     "status": "completed"
    },
    "tags": []
   },
   "outputs": [],
   "source": [
    "from sklearn.compose import ColumnTransformer\n",
    "from sklearn.pipeline import Pipeline\n",
    "from sklearn.impute import SimpleImputer\n",
    "from sklearn.preprocessing import OneHotEncoder, OrdinalEncoder, MinMaxScaler, StandardScaler\n",
    "from sklearn.tree import DecisionTreeRegressor\n",
    "from sklearn.ensemble import RandomForestRegressor\n",
    "from sklearn.model_selection import train_test_split\n",
    "from sklearn.model_selection import cross_val_score\n",
    "from sklearn.metrics import mean_squared_error, mean_absolute_error\n",
    "import seaborn as sns\n",
    "import matplotlib.pyplot as plt"
   ]
  },
  {
   "cell_type": "code",
   "execution_count": 3,
   "id": "noble-cleaners",
   "metadata": {
    "execution": {
     "iopub.execute_input": "2022-12-31T01:35:08.563741Z",
     "iopub.status.busy": "2022-12-31T01:35:08.563053Z",
     "iopub.status.idle": "2022-12-31T01:35:08.658673Z",
     "shell.execute_reply": "2022-12-31T01:35:08.659225Z",
     "shell.execute_reply.started": "2022-12-31T01:14:12.781388Z"
    },
    "papermill": {
     "duration": 0.134544,
     "end_time": "2022-12-31T01:35:08.659467",
     "exception": false,
     "start_time": "2022-12-31T01:35:08.524923",
     "status": "completed"
    },
    "tags": []
   },
   "outputs": [],
   "source": [
    "X_full = pd.read_csv('/kaggle/input/house-prices-advanced-regression-techniques/train.csv', index_col='Id')\n",
    "X_test = pd.read_csv('/kaggle/input/house-prices-advanced-regression-techniques/test.csv', index_col='Id')"
   ]
  },
  {
   "cell_type": "code",
   "execution_count": 4,
   "id": "smaller-southeast",
   "metadata": {
    "execution": {
     "iopub.execute_input": "2022-12-31T01:35:08.739221Z",
     "iopub.status.busy": "2022-12-31T01:35:08.738490Z",
     "iopub.status.idle": "2022-12-31T01:35:08.769874Z",
     "shell.execute_reply": "2022-12-31T01:35:08.769331Z",
     "shell.execute_reply.started": "2022-12-31T01:05:21.900513Z"
    },
    "papermill": {
     "duration": 0.076201,
     "end_time": "2022-12-31T01:35:08.770034",
     "exception": false,
     "start_time": "2022-12-31T01:35:08.693833",
     "status": "completed"
    },
    "tags": []
   },
   "outputs": [
    {
     "data": {
      "text/html": [
       "<div>\n",
       "<style scoped>\n",
       "    .dataframe tbody tr th:only-of-type {\n",
       "        vertical-align: middle;\n",
       "    }\n",
       "\n",
       "    .dataframe tbody tr th {\n",
       "        vertical-align: top;\n",
       "    }\n",
       "\n",
       "    .dataframe thead th {\n",
       "        text-align: right;\n",
       "    }\n",
       "</style>\n",
       "<table border=\"1\" class=\"dataframe\">\n",
       "  <thead>\n",
       "    <tr style=\"text-align: right;\">\n",
       "      <th></th>\n",
       "      <th>MSSubClass</th>\n",
       "      <th>MSZoning</th>\n",
       "      <th>LotFrontage</th>\n",
       "      <th>LotArea</th>\n",
       "      <th>Street</th>\n",
       "      <th>Alley</th>\n",
       "      <th>LotShape</th>\n",
       "      <th>LandContour</th>\n",
       "      <th>Utilities</th>\n",
       "      <th>LotConfig</th>\n",
       "      <th>...</th>\n",
       "      <th>PoolArea</th>\n",
       "      <th>PoolQC</th>\n",
       "      <th>Fence</th>\n",
       "      <th>MiscFeature</th>\n",
       "      <th>MiscVal</th>\n",
       "      <th>MoSold</th>\n",
       "      <th>YrSold</th>\n",
       "      <th>SaleType</th>\n",
       "      <th>SaleCondition</th>\n",
       "      <th>SalePrice</th>\n",
       "    </tr>\n",
       "    <tr>\n",
       "      <th>Id</th>\n",
       "      <th></th>\n",
       "      <th></th>\n",
       "      <th></th>\n",
       "      <th></th>\n",
       "      <th></th>\n",
       "      <th></th>\n",
       "      <th></th>\n",
       "      <th></th>\n",
       "      <th></th>\n",
       "      <th></th>\n",
       "      <th></th>\n",
       "      <th></th>\n",
       "      <th></th>\n",
       "      <th></th>\n",
       "      <th></th>\n",
       "      <th></th>\n",
       "      <th></th>\n",
       "      <th></th>\n",
       "      <th></th>\n",
       "      <th></th>\n",
       "      <th></th>\n",
       "    </tr>\n",
       "  </thead>\n",
       "  <tbody>\n",
       "    <tr>\n",
       "      <th>1</th>\n",
       "      <td>60</td>\n",
       "      <td>RL</td>\n",
       "      <td>65.0</td>\n",
       "      <td>8450</td>\n",
       "      <td>Pave</td>\n",
       "      <td>NaN</td>\n",
       "      <td>Reg</td>\n",
       "      <td>Lvl</td>\n",
       "      <td>AllPub</td>\n",
       "      <td>Inside</td>\n",
       "      <td>...</td>\n",
       "      <td>0</td>\n",
       "      <td>NaN</td>\n",
       "      <td>NaN</td>\n",
       "      <td>NaN</td>\n",
       "      <td>0</td>\n",
       "      <td>2</td>\n",
       "      <td>2008</td>\n",
       "      <td>WD</td>\n",
       "      <td>Normal</td>\n",
       "      <td>208500</td>\n",
       "    </tr>\n",
       "    <tr>\n",
       "      <th>2</th>\n",
       "      <td>20</td>\n",
       "      <td>RL</td>\n",
       "      <td>80.0</td>\n",
       "      <td>9600</td>\n",
       "      <td>Pave</td>\n",
       "      <td>NaN</td>\n",
       "      <td>Reg</td>\n",
       "      <td>Lvl</td>\n",
       "      <td>AllPub</td>\n",
       "      <td>FR2</td>\n",
       "      <td>...</td>\n",
       "      <td>0</td>\n",
       "      <td>NaN</td>\n",
       "      <td>NaN</td>\n",
       "      <td>NaN</td>\n",
       "      <td>0</td>\n",
       "      <td>5</td>\n",
       "      <td>2007</td>\n",
       "      <td>WD</td>\n",
       "      <td>Normal</td>\n",
       "      <td>181500</td>\n",
       "    </tr>\n",
       "    <tr>\n",
       "      <th>3</th>\n",
       "      <td>60</td>\n",
       "      <td>RL</td>\n",
       "      <td>68.0</td>\n",
       "      <td>11250</td>\n",
       "      <td>Pave</td>\n",
       "      <td>NaN</td>\n",
       "      <td>IR1</td>\n",
       "      <td>Lvl</td>\n",
       "      <td>AllPub</td>\n",
       "      <td>Inside</td>\n",
       "      <td>...</td>\n",
       "      <td>0</td>\n",
       "      <td>NaN</td>\n",
       "      <td>NaN</td>\n",
       "      <td>NaN</td>\n",
       "      <td>0</td>\n",
       "      <td>9</td>\n",
       "      <td>2008</td>\n",
       "      <td>WD</td>\n",
       "      <td>Normal</td>\n",
       "      <td>223500</td>\n",
       "    </tr>\n",
       "    <tr>\n",
       "      <th>4</th>\n",
       "      <td>70</td>\n",
       "      <td>RL</td>\n",
       "      <td>60.0</td>\n",
       "      <td>9550</td>\n",
       "      <td>Pave</td>\n",
       "      <td>NaN</td>\n",
       "      <td>IR1</td>\n",
       "      <td>Lvl</td>\n",
       "      <td>AllPub</td>\n",
       "      <td>Corner</td>\n",
       "      <td>...</td>\n",
       "      <td>0</td>\n",
       "      <td>NaN</td>\n",
       "      <td>NaN</td>\n",
       "      <td>NaN</td>\n",
       "      <td>0</td>\n",
       "      <td>2</td>\n",
       "      <td>2006</td>\n",
       "      <td>WD</td>\n",
       "      <td>Abnorml</td>\n",
       "      <td>140000</td>\n",
       "    </tr>\n",
       "    <tr>\n",
       "      <th>5</th>\n",
       "      <td>60</td>\n",
       "      <td>RL</td>\n",
       "      <td>84.0</td>\n",
       "      <td>14260</td>\n",
       "      <td>Pave</td>\n",
       "      <td>NaN</td>\n",
       "      <td>IR1</td>\n",
       "      <td>Lvl</td>\n",
       "      <td>AllPub</td>\n",
       "      <td>FR2</td>\n",
       "      <td>...</td>\n",
       "      <td>0</td>\n",
       "      <td>NaN</td>\n",
       "      <td>NaN</td>\n",
       "      <td>NaN</td>\n",
       "      <td>0</td>\n",
       "      <td>12</td>\n",
       "      <td>2008</td>\n",
       "      <td>WD</td>\n",
       "      <td>Normal</td>\n",
       "      <td>250000</td>\n",
       "    </tr>\n",
       "  </tbody>\n",
       "</table>\n",
       "<p>5 rows × 80 columns</p>\n",
       "</div>"
      ],
      "text/plain": [
       "    MSSubClass MSZoning  LotFrontage  LotArea Street Alley LotShape  \\\n",
       "Id                                                                    \n",
       "1           60       RL         65.0     8450   Pave   NaN      Reg   \n",
       "2           20       RL         80.0     9600   Pave   NaN      Reg   \n",
       "3           60       RL         68.0    11250   Pave   NaN      IR1   \n",
       "4           70       RL         60.0     9550   Pave   NaN      IR1   \n",
       "5           60       RL         84.0    14260   Pave   NaN      IR1   \n",
       "\n",
       "   LandContour Utilities LotConfig  ... PoolArea PoolQC Fence MiscFeature  \\\n",
       "Id                                  ...                                     \n",
       "1          Lvl    AllPub    Inside  ...        0    NaN   NaN         NaN   \n",
       "2          Lvl    AllPub       FR2  ...        0    NaN   NaN         NaN   \n",
       "3          Lvl    AllPub    Inside  ...        0    NaN   NaN         NaN   \n",
       "4          Lvl    AllPub    Corner  ...        0    NaN   NaN         NaN   \n",
       "5          Lvl    AllPub       FR2  ...        0    NaN   NaN         NaN   \n",
       "\n",
       "   MiscVal MoSold  YrSold  SaleType  SaleCondition  SalePrice  \n",
       "Id                                                             \n",
       "1        0      2    2008        WD         Normal     208500  \n",
       "2        0      5    2007        WD         Normal     181500  \n",
       "3        0      9    2008        WD         Normal     223500  \n",
       "4        0      2    2006        WD        Abnorml     140000  \n",
       "5        0     12    2008        WD         Normal     250000  \n",
       "\n",
       "[5 rows x 80 columns]"
      ]
     },
     "execution_count": 4,
     "metadata": {},
     "output_type": "execute_result"
    }
   ],
   "source": [
    "X_full.head()"
   ]
  },
  {
   "cell_type": "code",
   "execution_count": 5,
   "id": "collect-vertical",
   "metadata": {
    "execution": {
     "iopub.execute_input": "2022-12-31T01:35:08.865183Z",
     "iopub.status.busy": "2022-12-31T01:35:08.864415Z",
     "iopub.status.idle": "2022-12-31T01:35:08.876320Z",
     "shell.execute_reply": "2022-12-31T01:35:08.876830Z",
     "shell.execute_reply.started": "2022-12-31T01:05:21.932864Z"
    },
    "papermill": {
     "duration": 0.070353,
     "end_time": "2022-12-31T01:35:08.877027",
     "exception": false,
     "start_time": "2022-12-31T01:35:08.806674",
     "status": "completed"
    },
    "tags": []
   },
   "outputs": [
    {
     "data": {
      "text/html": [
       "<div>\n",
       "<style scoped>\n",
       "    .dataframe tbody tr th:only-of-type {\n",
       "        vertical-align: middle;\n",
       "    }\n",
       "\n",
       "    .dataframe tbody tr th {\n",
       "        vertical-align: top;\n",
       "    }\n",
       "\n",
       "    .dataframe thead th {\n",
       "        text-align: right;\n",
       "    }\n",
       "</style>\n",
       "<table border=\"1\" class=\"dataframe\">\n",
       "  <thead>\n",
       "    <tr style=\"text-align: right;\">\n",
       "      <th></th>\n",
       "      <th>MSSubClass</th>\n",
       "      <th>MSZoning</th>\n",
       "      <th>LotFrontage</th>\n",
       "      <th>LotArea</th>\n",
       "      <th>Street</th>\n",
       "      <th>Alley</th>\n",
       "      <th>LotShape</th>\n",
       "      <th>LandContour</th>\n",
       "      <th>Utilities</th>\n",
       "      <th>LotConfig</th>\n",
       "      <th>...</th>\n",
       "      <th>ScreenPorch</th>\n",
       "      <th>PoolArea</th>\n",
       "      <th>PoolQC</th>\n",
       "      <th>Fence</th>\n",
       "      <th>MiscFeature</th>\n",
       "      <th>MiscVal</th>\n",
       "      <th>MoSold</th>\n",
       "      <th>YrSold</th>\n",
       "      <th>SaleType</th>\n",
       "      <th>SaleCondition</th>\n",
       "    </tr>\n",
       "    <tr>\n",
       "      <th>Id</th>\n",
       "      <th></th>\n",
       "      <th></th>\n",
       "      <th></th>\n",
       "      <th></th>\n",
       "      <th></th>\n",
       "      <th></th>\n",
       "      <th></th>\n",
       "      <th></th>\n",
       "      <th></th>\n",
       "      <th></th>\n",
       "      <th></th>\n",
       "      <th></th>\n",
       "      <th></th>\n",
       "      <th></th>\n",
       "      <th></th>\n",
       "      <th></th>\n",
       "      <th></th>\n",
       "      <th></th>\n",
       "      <th></th>\n",
       "      <th></th>\n",
       "      <th></th>\n",
       "    </tr>\n",
       "  </thead>\n",
       "  <tbody>\n",
       "    <tr>\n",
       "      <th>1461</th>\n",
       "      <td>20</td>\n",
       "      <td>RH</td>\n",
       "      <td>80.0</td>\n",
       "      <td>11622</td>\n",
       "      <td>Pave</td>\n",
       "      <td>NaN</td>\n",
       "      <td>Reg</td>\n",
       "      <td>Lvl</td>\n",
       "      <td>AllPub</td>\n",
       "      <td>Inside</td>\n",
       "      <td>...</td>\n",
       "      <td>120</td>\n",
       "      <td>0</td>\n",
       "      <td>NaN</td>\n",
       "      <td>MnPrv</td>\n",
       "      <td>NaN</td>\n",
       "      <td>0</td>\n",
       "      <td>6</td>\n",
       "      <td>2010</td>\n",
       "      <td>WD</td>\n",
       "      <td>Normal</td>\n",
       "    </tr>\n",
       "    <tr>\n",
       "      <th>1462</th>\n",
       "      <td>20</td>\n",
       "      <td>RL</td>\n",
       "      <td>81.0</td>\n",
       "      <td>14267</td>\n",
       "      <td>Pave</td>\n",
       "      <td>NaN</td>\n",
       "      <td>IR1</td>\n",
       "      <td>Lvl</td>\n",
       "      <td>AllPub</td>\n",
       "      <td>Corner</td>\n",
       "      <td>...</td>\n",
       "      <td>0</td>\n",
       "      <td>0</td>\n",
       "      <td>NaN</td>\n",
       "      <td>NaN</td>\n",
       "      <td>Gar2</td>\n",
       "      <td>12500</td>\n",
       "      <td>6</td>\n",
       "      <td>2010</td>\n",
       "      <td>WD</td>\n",
       "      <td>Normal</td>\n",
       "    </tr>\n",
       "    <tr>\n",
       "      <th>1463</th>\n",
       "      <td>60</td>\n",
       "      <td>RL</td>\n",
       "      <td>74.0</td>\n",
       "      <td>13830</td>\n",
       "      <td>Pave</td>\n",
       "      <td>NaN</td>\n",
       "      <td>IR1</td>\n",
       "      <td>Lvl</td>\n",
       "      <td>AllPub</td>\n",
       "      <td>Inside</td>\n",
       "      <td>...</td>\n",
       "      <td>0</td>\n",
       "      <td>0</td>\n",
       "      <td>NaN</td>\n",
       "      <td>MnPrv</td>\n",
       "      <td>NaN</td>\n",
       "      <td>0</td>\n",
       "      <td>3</td>\n",
       "      <td>2010</td>\n",
       "      <td>WD</td>\n",
       "      <td>Normal</td>\n",
       "    </tr>\n",
       "    <tr>\n",
       "      <th>1464</th>\n",
       "      <td>60</td>\n",
       "      <td>RL</td>\n",
       "      <td>78.0</td>\n",
       "      <td>9978</td>\n",
       "      <td>Pave</td>\n",
       "      <td>NaN</td>\n",
       "      <td>IR1</td>\n",
       "      <td>Lvl</td>\n",
       "      <td>AllPub</td>\n",
       "      <td>Inside</td>\n",
       "      <td>...</td>\n",
       "      <td>0</td>\n",
       "      <td>0</td>\n",
       "      <td>NaN</td>\n",
       "      <td>NaN</td>\n",
       "      <td>NaN</td>\n",
       "      <td>0</td>\n",
       "      <td>6</td>\n",
       "      <td>2010</td>\n",
       "      <td>WD</td>\n",
       "      <td>Normal</td>\n",
       "    </tr>\n",
       "    <tr>\n",
       "      <th>1465</th>\n",
       "      <td>120</td>\n",
       "      <td>RL</td>\n",
       "      <td>43.0</td>\n",
       "      <td>5005</td>\n",
       "      <td>Pave</td>\n",
       "      <td>NaN</td>\n",
       "      <td>IR1</td>\n",
       "      <td>HLS</td>\n",
       "      <td>AllPub</td>\n",
       "      <td>Inside</td>\n",
       "      <td>...</td>\n",
       "      <td>144</td>\n",
       "      <td>0</td>\n",
       "      <td>NaN</td>\n",
       "      <td>NaN</td>\n",
       "      <td>NaN</td>\n",
       "      <td>0</td>\n",
       "      <td>1</td>\n",
       "      <td>2010</td>\n",
       "      <td>WD</td>\n",
       "      <td>Normal</td>\n",
       "    </tr>\n",
       "  </tbody>\n",
       "</table>\n",
       "<p>5 rows × 79 columns</p>\n",
       "</div>"
      ],
      "text/plain": [
       "      MSSubClass MSZoning  LotFrontage  LotArea Street Alley LotShape  \\\n",
       "Id                                                                      \n",
       "1461          20       RH         80.0    11622   Pave   NaN      Reg   \n",
       "1462          20       RL         81.0    14267   Pave   NaN      IR1   \n",
       "1463          60       RL         74.0    13830   Pave   NaN      IR1   \n",
       "1464          60       RL         78.0     9978   Pave   NaN      IR1   \n",
       "1465         120       RL         43.0     5005   Pave   NaN      IR1   \n",
       "\n",
       "     LandContour Utilities LotConfig  ... ScreenPorch PoolArea PoolQC  Fence  \\\n",
       "Id                                    ...                                      \n",
       "1461         Lvl    AllPub    Inside  ...         120        0    NaN  MnPrv   \n",
       "1462         Lvl    AllPub    Corner  ...           0        0    NaN    NaN   \n",
       "1463         Lvl    AllPub    Inside  ...           0        0    NaN  MnPrv   \n",
       "1464         Lvl    AllPub    Inside  ...           0        0    NaN    NaN   \n",
       "1465         HLS    AllPub    Inside  ...         144        0    NaN    NaN   \n",
       "\n",
       "     MiscFeature MiscVal  MoSold  YrSold  SaleType  SaleCondition  \n",
       "Id                                                                 \n",
       "1461         NaN       0       6    2010        WD         Normal  \n",
       "1462        Gar2   12500       6    2010        WD         Normal  \n",
       "1463         NaN       0       3    2010        WD         Normal  \n",
       "1464         NaN       0       6    2010        WD         Normal  \n",
       "1465         NaN       0       1    2010        WD         Normal  \n",
       "\n",
       "[5 rows x 79 columns]"
      ]
     },
     "execution_count": 5,
     "metadata": {},
     "output_type": "execute_result"
    }
   ],
   "source": [
    "X_test.head()"
   ]
  },
  {
   "cell_type": "markdown",
   "id": "educated-fishing",
   "metadata": {
    "papermill": {
     "duration": 0.034325,
     "end_time": "2022-12-31T01:35:08.945672",
     "exception": false,
     "start_time": "2022-12-31T01:35:08.911347",
     "status": "completed"
    },
    "tags": []
   },
   "source": [
    "# Split"
   ]
  },
  {
   "cell_type": "code",
   "execution_count": 6,
   "id": "educational-recovery",
   "metadata": {
    "execution": {
     "iopub.execute_input": "2022-12-31T01:35:09.020784Z",
     "iopub.status.busy": "2022-12-31T01:35:09.020035Z",
     "iopub.status.idle": "2022-12-31T01:35:09.027446Z",
     "shell.execute_reply": "2022-12-31T01:35:09.027929Z",
     "shell.execute_reply.started": "2022-12-31T01:14:16.732397Z"
    },
    "papermill": {
     "duration": 0.046678,
     "end_time": "2022-12-31T01:35:09.028121",
     "exception": false,
     "start_time": "2022-12-31T01:35:08.981443",
     "status": "completed"
    },
    "tags": []
   },
   "outputs": [],
   "source": [
    "X = X_full.drop(columns = ['SalePrice'])\n",
    "\n",
    "y = X_full['SalePrice']"
   ]
  },
  {
   "cell_type": "markdown",
   "id": "agricultural-light",
   "metadata": {
    "papermill": {
     "duration": 0.036572,
     "end_time": "2022-12-31T01:35:09.103500",
     "exception": false,
     "start_time": "2022-12-31T01:35:09.066928",
     "status": "completed"
    },
    "tags": []
   },
   "source": [
    "# Analise Exploratória"
   ]
  },
  {
   "cell_type": "code",
   "execution_count": 7,
   "id": "juvenile-veteran",
   "metadata": {
    "execution": {
     "iopub.execute_input": "2022-12-31T01:35:09.183773Z",
     "iopub.status.busy": "2022-12-31T01:35:09.180946Z",
     "iopub.status.idle": "2022-12-31T01:35:09.302910Z",
     "shell.execute_reply": "2022-12-31T01:35:09.302355Z",
     "shell.execute_reply.started": "2022-12-31T01:05:21.987309Z"
    },
    "papermill": {
     "duration": 0.163067,
     "end_time": "2022-12-31T01:35:09.303056",
     "exception": false,
     "start_time": "2022-12-31T01:35:09.139989",
     "status": "completed"
    },
    "tags": []
   },
   "outputs": [
    {
     "data": {
      "text/html": [
       "<div>\n",
       "<style scoped>\n",
       "    .dataframe tbody tr th:only-of-type {\n",
       "        vertical-align: middle;\n",
       "    }\n",
       "\n",
       "    .dataframe tbody tr th {\n",
       "        vertical-align: top;\n",
       "    }\n",
       "\n",
       "    .dataframe thead th {\n",
       "        text-align: right;\n",
       "    }\n",
       "</style>\n",
       "<table border=\"1\" class=\"dataframe\">\n",
       "  <thead>\n",
       "    <tr style=\"text-align: right;\">\n",
       "      <th></th>\n",
       "      <th>MSSubClass</th>\n",
       "      <th>LotFrontage</th>\n",
       "      <th>LotArea</th>\n",
       "      <th>OverallQual</th>\n",
       "      <th>OverallCond</th>\n",
       "      <th>YearBuilt</th>\n",
       "      <th>YearRemodAdd</th>\n",
       "      <th>MasVnrArea</th>\n",
       "      <th>BsmtFinSF1</th>\n",
       "      <th>BsmtFinSF2</th>\n",
       "      <th>...</th>\n",
       "      <th>WoodDeckSF</th>\n",
       "      <th>OpenPorchSF</th>\n",
       "      <th>EnclosedPorch</th>\n",
       "      <th>3SsnPorch</th>\n",
       "      <th>ScreenPorch</th>\n",
       "      <th>PoolArea</th>\n",
       "      <th>MiscVal</th>\n",
       "      <th>MoSold</th>\n",
       "      <th>YrSold</th>\n",
       "      <th>SalePrice</th>\n",
       "    </tr>\n",
       "  </thead>\n",
       "  <tbody>\n",
       "    <tr>\n",
       "      <th>count</th>\n",
       "      <td>1460.000000</td>\n",
       "      <td>1201.000000</td>\n",
       "      <td>1460.000000</td>\n",
       "      <td>1460.000000</td>\n",
       "      <td>1460.000000</td>\n",
       "      <td>1460.000000</td>\n",
       "      <td>1460.000000</td>\n",
       "      <td>1452.000000</td>\n",
       "      <td>1460.000000</td>\n",
       "      <td>1460.000000</td>\n",
       "      <td>...</td>\n",
       "      <td>1460.000000</td>\n",
       "      <td>1460.000000</td>\n",
       "      <td>1460.000000</td>\n",
       "      <td>1460.000000</td>\n",
       "      <td>1460.000000</td>\n",
       "      <td>1460.000000</td>\n",
       "      <td>1460.000000</td>\n",
       "      <td>1460.000000</td>\n",
       "      <td>1460.000000</td>\n",
       "      <td>1460.000000</td>\n",
       "    </tr>\n",
       "    <tr>\n",
       "      <th>mean</th>\n",
       "      <td>56.897260</td>\n",
       "      <td>70.049958</td>\n",
       "      <td>10516.828082</td>\n",
       "      <td>6.099315</td>\n",
       "      <td>5.575342</td>\n",
       "      <td>1971.267808</td>\n",
       "      <td>1984.865753</td>\n",
       "      <td>103.685262</td>\n",
       "      <td>443.639726</td>\n",
       "      <td>46.549315</td>\n",
       "      <td>...</td>\n",
       "      <td>94.244521</td>\n",
       "      <td>46.660274</td>\n",
       "      <td>21.954110</td>\n",
       "      <td>3.409589</td>\n",
       "      <td>15.060959</td>\n",
       "      <td>2.758904</td>\n",
       "      <td>43.489041</td>\n",
       "      <td>6.321918</td>\n",
       "      <td>2007.815753</td>\n",
       "      <td>180921.195890</td>\n",
       "    </tr>\n",
       "    <tr>\n",
       "      <th>std</th>\n",
       "      <td>42.300571</td>\n",
       "      <td>24.284752</td>\n",
       "      <td>9981.264932</td>\n",
       "      <td>1.382997</td>\n",
       "      <td>1.112799</td>\n",
       "      <td>30.202904</td>\n",
       "      <td>20.645407</td>\n",
       "      <td>181.066207</td>\n",
       "      <td>456.098091</td>\n",
       "      <td>161.319273</td>\n",
       "      <td>...</td>\n",
       "      <td>125.338794</td>\n",
       "      <td>66.256028</td>\n",
       "      <td>61.119149</td>\n",
       "      <td>29.317331</td>\n",
       "      <td>55.757415</td>\n",
       "      <td>40.177307</td>\n",
       "      <td>496.123024</td>\n",
       "      <td>2.703626</td>\n",
       "      <td>1.328095</td>\n",
       "      <td>79442.502883</td>\n",
       "    </tr>\n",
       "    <tr>\n",
       "      <th>min</th>\n",
       "      <td>20.000000</td>\n",
       "      <td>21.000000</td>\n",
       "      <td>1300.000000</td>\n",
       "      <td>1.000000</td>\n",
       "      <td>1.000000</td>\n",
       "      <td>1872.000000</td>\n",
       "      <td>1950.000000</td>\n",
       "      <td>0.000000</td>\n",
       "      <td>0.000000</td>\n",
       "      <td>0.000000</td>\n",
       "      <td>...</td>\n",
       "      <td>0.000000</td>\n",
       "      <td>0.000000</td>\n",
       "      <td>0.000000</td>\n",
       "      <td>0.000000</td>\n",
       "      <td>0.000000</td>\n",
       "      <td>0.000000</td>\n",
       "      <td>0.000000</td>\n",
       "      <td>1.000000</td>\n",
       "      <td>2006.000000</td>\n",
       "      <td>34900.000000</td>\n",
       "    </tr>\n",
       "    <tr>\n",
       "      <th>25%</th>\n",
       "      <td>20.000000</td>\n",
       "      <td>59.000000</td>\n",
       "      <td>7553.500000</td>\n",
       "      <td>5.000000</td>\n",
       "      <td>5.000000</td>\n",
       "      <td>1954.000000</td>\n",
       "      <td>1967.000000</td>\n",
       "      <td>0.000000</td>\n",
       "      <td>0.000000</td>\n",
       "      <td>0.000000</td>\n",
       "      <td>...</td>\n",
       "      <td>0.000000</td>\n",
       "      <td>0.000000</td>\n",
       "      <td>0.000000</td>\n",
       "      <td>0.000000</td>\n",
       "      <td>0.000000</td>\n",
       "      <td>0.000000</td>\n",
       "      <td>0.000000</td>\n",
       "      <td>5.000000</td>\n",
       "      <td>2007.000000</td>\n",
       "      <td>129975.000000</td>\n",
       "    </tr>\n",
       "    <tr>\n",
       "      <th>50%</th>\n",
       "      <td>50.000000</td>\n",
       "      <td>69.000000</td>\n",
       "      <td>9478.500000</td>\n",
       "      <td>6.000000</td>\n",
       "      <td>5.000000</td>\n",
       "      <td>1973.000000</td>\n",
       "      <td>1994.000000</td>\n",
       "      <td>0.000000</td>\n",
       "      <td>383.500000</td>\n",
       "      <td>0.000000</td>\n",
       "      <td>...</td>\n",
       "      <td>0.000000</td>\n",
       "      <td>25.000000</td>\n",
       "      <td>0.000000</td>\n",
       "      <td>0.000000</td>\n",
       "      <td>0.000000</td>\n",
       "      <td>0.000000</td>\n",
       "      <td>0.000000</td>\n",
       "      <td>6.000000</td>\n",
       "      <td>2008.000000</td>\n",
       "      <td>163000.000000</td>\n",
       "    </tr>\n",
       "    <tr>\n",
       "      <th>75%</th>\n",
       "      <td>70.000000</td>\n",
       "      <td>80.000000</td>\n",
       "      <td>11601.500000</td>\n",
       "      <td>7.000000</td>\n",
       "      <td>6.000000</td>\n",
       "      <td>2000.000000</td>\n",
       "      <td>2004.000000</td>\n",
       "      <td>166.000000</td>\n",
       "      <td>712.250000</td>\n",
       "      <td>0.000000</td>\n",
       "      <td>...</td>\n",
       "      <td>168.000000</td>\n",
       "      <td>68.000000</td>\n",
       "      <td>0.000000</td>\n",
       "      <td>0.000000</td>\n",
       "      <td>0.000000</td>\n",
       "      <td>0.000000</td>\n",
       "      <td>0.000000</td>\n",
       "      <td>8.000000</td>\n",
       "      <td>2009.000000</td>\n",
       "      <td>214000.000000</td>\n",
       "    </tr>\n",
       "    <tr>\n",
       "      <th>max</th>\n",
       "      <td>190.000000</td>\n",
       "      <td>313.000000</td>\n",
       "      <td>215245.000000</td>\n",
       "      <td>10.000000</td>\n",
       "      <td>9.000000</td>\n",
       "      <td>2010.000000</td>\n",
       "      <td>2010.000000</td>\n",
       "      <td>1600.000000</td>\n",
       "      <td>5644.000000</td>\n",
       "      <td>1474.000000</td>\n",
       "      <td>...</td>\n",
       "      <td>857.000000</td>\n",
       "      <td>547.000000</td>\n",
       "      <td>552.000000</td>\n",
       "      <td>508.000000</td>\n",
       "      <td>480.000000</td>\n",
       "      <td>738.000000</td>\n",
       "      <td>15500.000000</td>\n",
       "      <td>12.000000</td>\n",
       "      <td>2010.000000</td>\n",
       "      <td>755000.000000</td>\n",
       "    </tr>\n",
       "  </tbody>\n",
       "</table>\n",
       "<p>8 rows × 37 columns</p>\n",
       "</div>"
      ],
      "text/plain": [
       "        MSSubClass  LotFrontage        LotArea  OverallQual  OverallCond  \\\n",
       "count  1460.000000  1201.000000    1460.000000  1460.000000  1460.000000   \n",
       "mean     56.897260    70.049958   10516.828082     6.099315     5.575342   \n",
       "std      42.300571    24.284752    9981.264932     1.382997     1.112799   \n",
       "min      20.000000    21.000000    1300.000000     1.000000     1.000000   \n",
       "25%      20.000000    59.000000    7553.500000     5.000000     5.000000   \n",
       "50%      50.000000    69.000000    9478.500000     6.000000     5.000000   \n",
       "75%      70.000000    80.000000   11601.500000     7.000000     6.000000   \n",
       "max     190.000000   313.000000  215245.000000    10.000000     9.000000   \n",
       "\n",
       "         YearBuilt  YearRemodAdd   MasVnrArea   BsmtFinSF1   BsmtFinSF2  ...  \\\n",
       "count  1460.000000   1460.000000  1452.000000  1460.000000  1460.000000  ...   \n",
       "mean   1971.267808   1984.865753   103.685262   443.639726    46.549315  ...   \n",
       "std      30.202904     20.645407   181.066207   456.098091   161.319273  ...   \n",
       "min    1872.000000   1950.000000     0.000000     0.000000     0.000000  ...   \n",
       "25%    1954.000000   1967.000000     0.000000     0.000000     0.000000  ...   \n",
       "50%    1973.000000   1994.000000     0.000000   383.500000     0.000000  ...   \n",
       "75%    2000.000000   2004.000000   166.000000   712.250000     0.000000  ...   \n",
       "max    2010.000000   2010.000000  1600.000000  5644.000000  1474.000000  ...   \n",
       "\n",
       "        WoodDeckSF  OpenPorchSF  EnclosedPorch    3SsnPorch  ScreenPorch  \\\n",
       "count  1460.000000  1460.000000    1460.000000  1460.000000  1460.000000   \n",
       "mean     94.244521    46.660274      21.954110     3.409589    15.060959   \n",
       "std     125.338794    66.256028      61.119149    29.317331    55.757415   \n",
       "min       0.000000     0.000000       0.000000     0.000000     0.000000   \n",
       "25%       0.000000     0.000000       0.000000     0.000000     0.000000   \n",
       "50%       0.000000    25.000000       0.000000     0.000000     0.000000   \n",
       "75%     168.000000    68.000000       0.000000     0.000000     0.000000   \n",
       "max     857.000000   547.000000     552.000000   508.000000   480.000000   \n",
       "\n",
       "          PoolArea       MiscVal       MoSold       YrSold      SalePrice  \n",
       "count  1460.000000   1460.000000  1460.000000  1460.000000    1460.000000  \n",
       "mean      2.758904     43.489041     6.321918  2007.815753  180921.195890  \n",
       "std      40.177307    496.123024     2.703626     1.328095   79442.502883  \n",
       "min       0.000000      0.000000     1.000000  2006.000000   34900.000000  \n",
       "25%       0.000000      0.000000     5.000000  2007.000000  129975.000000  \n",
       "50%       0.000000      0.000000     6.000000  2008.000000  163000.000000  \n",
       "75%       0.000000      0.000000     8.000000  2009.000000  214000.000000  \n",
       "max     738.000000  15500.000000    12.000000  2010.000000  755000.000000  \n",
       "\n",
       "[8 rows x 37 columns]"
      ]
     },
     "execution_count": 7,
     "metadata": {},
     "output_type": "execute_result"
    }
   ],
   "source": [
    "X_full.describe()"
   ]
  },
  {
   "cell_type": "code",
   "execution_count": 8,
   "id": "serious-first",
   "metadata": {
    "execution": {
     "iopub.execute_input": "2022-12-31T01:35:09.382579Z",
     "iopub.status.busy": "2022-12-31T01:35:09.381895Z",
     "iopub.status.idle": "2022-12-31T01:35:09.514720Z",
     "shell.execute_reply": "2022-12-31T01:35:09.513991Z",
     "shell.execute_reply.started": "2022-12-31T01:05:22.114043Z"
    },
    "papermill": {
     "duration": 0.175886,
     "end_time": "2022-12-31T01:35:09.514900",
     "exception": false,
     "start_time": "2022-12-31T01:35:09.339014",
     "status": "completed"
    },
    "tags": []
   },
   "outputs": [
    {
     "data": {
      "text/html": [
       "<div>\n",
       "<style scoped>\n",
       "    .dataframe tbody tr th:only-of-type {\n",
       "        vertical-align: middle;\n",
       "    }\n",
       "\n",
       "    .dataframe tbody tr th {\n",
       "        vertical-align: top;\n",
       "    }\n",
       "\n",
       "    .dataframe thead th {\n",
       "        text-align: right;\n",
       "    }\n",
       "</style>\n",
       "<table border=\"1\" class=\"dataframe\">\n",
       "  <thead>\n",
       "    <tr style=\"text-align: right;\">\n",
       "      <th></th>\n",
       "      <th>MSZoning</th>\n",
       "      <th>Street</th>\n",
       "      <th>Alley</th>\n",
       "      <th>LotShape</th>\n",
       "      <th>LandContour</th>\n",
       "      <th>Utilities</th>\n",
       "      <th>LotConfig</th>\n",
       "      <th>LandSlope</th>\n",
       "      <th>Neighborhood</th>\n",
       "      <th>Condition1</th>\n",
       "      <th>...</th>\n",
       "      <th>GarageType</th>\n",
       "      <th>GarageFinish</th>\n",
       "      <th>GarageQual</th>\n",
       "      <th>GarageCond</th>\n",
       "      <th>PavedDrive</th>\n",
       "      <th>PoolQC</th>\n",
       "      <th>Fence</th>\n",
       "      <th>MiscFeature</th>\n",
       "      <th>SaleType</th>\n",
       "      <th>SaleCondition</th>\n",
       "    </tr>\n",
       "  </thead>\n",
       "  <tbody>\n",
       "    <tr>\n",
       "      <th>count</th>\n",
       "      <td>1460</td>\n",
       "      <td>1460</td>\n",
       "      <td>91</td>\n",
       "      <td>1460</td>\n",
       "      <td>1460</td>\n",
       "      <td>1460</td>\n",
       "      <td>1460</td>\n",
       "      <td>1460</td>\n",
       "      <td>1460</td>\n",
       "      <td>1460</td>\n",
       "      <td>...</td>\n",
       "      <td>1379</td>\n",
       "      <td>1379</td>\n",
       "      <td>1379</td>\n",
       "      <td>1379</td>\n",
       "      <td>1460</td>\n",
       "      <td>7</td>\n",
       "      <td>281</td>\n",
       "      <td>54</td>\n",
       "      <td>1460</td>\n",
       "      <td>1460</td>\n",
       "    </tr>\n",
       "    <tr>\n",
       "      <th>unique</th>\n",
       "      <td>5</td>\n",
       "      <td>2</td>\n",
       "      <td>2</td>\n",
       "      <td>4</td>\n",
       "      <td>4</td>\n",
       "      <td>2</td>\n",
       "      <td>5</td>\n",
       "      <td>3</td>\n",
       "      <td>25</td>\n",
       "      <td>9</td>\n",
       "      <td>...</td>\n",
       "      <td>6</td>\n",
       "      <td>3</td>\n",
       "      <td>5</td>\n",
       "      <td>5</td>\n",
       "      <td>3</td>\n",
       "      <td>3</td>\n",
       "      <td>4</td>\n",
       "      <td>4</td>\n",
       "      <td>9</td>\n",
       "      <td>6</td>\n",
       "    </tr>\n",
       "    <tr>\n",
       "      <th>top</th>\n",
       "      <td>RL</td>\n",
       "      <td>Pave</td>\n",
       "      <td>Grvl</td>\n",
       "      <td>Reg</td>\n",
       "      <td>Lvl</td>\n",
       "      <td>AllPub</td>\n",
       "      <td>Inside</td>\n",
       "      <td>Gtl</td>\n",
       "      <td>NAmes</td>\n",
       "      <td>Norm</td>\n",
       "      <td>...</td>\n",
       "      <td>Attchd</td>\n",
       "      <td>Unf</td>\n",
       "      <td>TA</td>\n",
       "      <td>TA</td>\n",
       "      <td>Y</td>\n",
       "      <td>Gd</td>\n",
       "      <td>MnPrv</td>\n",
       "      <td>Shed</td>\n",
       "      <td>WD</td>\n",
       "      <td>Normal</td>\n",
       "    </tr>\n",
       "    <tr>\n",
       "      <th>freq</th>\n",
       "      <td>1151</td>\n",
       "      <td>1454</td>\n",
       "      <td>50</td>\n",
       "      <td>925</td>\n",
       "      <td>1311</td>\n",
       "      <td>1459</td>\n",
       "      <td>1052</td>\n",
       "      <td>1382</td>\n",
       "      <td>225</td>\n",
       "      <td>1260</td>\n",
       "      <td>...</td>\n",
       "      <td>870</td>\n",
       "      <td>605</td>\n",
       "      <td>1311</td>\n",
       "      <td>1326</td>\n",
       "      <td>1340</td>\n",
       "      <td>3</td>\n",
       "      <td>157</td>\n",
       "      <td>49</td>\n",
       "      <td>1267</td>\n",
       "      <td>1198</td>\n",
       "    </tr>\n",
       "  </tbody>\n",
       "</table>\n",
       "<p>4 rows × 43 columns</p>\n",
       "</div>"
      ],
      "text/plain": [
       "       MSZoning Street Alley LotShape LandContour Utilities LotConfig  \\\n",
       "count      1460   1460    91     1460        1460      1460      1460   \n",
       "unique        5      2     2        4           4         2         5   \n",
       "top          RL   Pave  Grvl      Reg         Lvl    AllPub    Inside   \n",
       "freq       1151   1454    50      925        1311      1459      1052   \n",
       "\n",
       "       LandSlope Neighborhood Condition1  ... GarageType GarageFinish  \\\n",
       "count       1460         1460       1460  ...       1379         1379   \n",
       "unique         3           25          9  ...          6            3   \n",
       "top          Gtl        NAmes       Norm  ...     Attchd          Unf   \n",
       "freq        1382          225       1260  ...        870          605   \n",
       "\n",
       "       GarageQual GarageCond PavedDrive PoolQC  Fence MiscFeature SaleType  \\\n",
       "count        1379       1379       1460      7    281          54     1460   \n",
       "unique          5          5          3      3      4           4        9   \n",
       "top            TA         TA          Y     Gd  MnPrv        Shed       WD   \n",
       "freq         1311       1326       1340      3    157          49     1267   \n",
       "\n",
       "       SaleCondition  \n",
       "count           1460  \n",
       "unique             6  \n",
       "top           Normal  \n",
       "freq            1198  \n",
       "\n",
       "[4 rows x 43 columns]"
      ]
     },
     "execution_count": 8,
     "metadata": {},
     "output_type": "execute_result"
    }
   ],
   "source": [
    "X_full.describe(exclude = np.number)"
   ]
  },
  {
   "cell_type": "markdown",
   "id": "southern-sessions",
   "metadata": {
    "papermill": {
     "duration": 0.037921,
     "end_time": "2022-12-31T01:35:09.590961",
     "exception": false,
     "start_time": "2022-12-31T01:35:09.553040",
     "status": "completed"
    },
    "tags": []
   },
   "source": [
    "`Neighborhood` é a feature com CATEGÓRICA com maior número de valores únicos, 25"
   ]
  },
  {
   "cell_type": "code",
   "execution_count": 9,
   "id": "distinct-lucas",
   "metadata": {
    "execution": {
     "iopub.execute_input": "2022-12-31T01:35:09.672745Z",
     "iopub.status.busy": "2022-12-31T01:35:09.672005Z",
     "iopub.status.idle": "2022-12-31T01:35:09.679077Z",
     "shell.execute_reply": "2022-12-31T01:35:09.678407Z",
     "shell.execute_reply.started": "2022-12-31T01:14:19.787633Z"
    },
    "papermill": {
     "duration": 0.050396,
     "end_time": "2022-12-31T01:35:09.679292",
     "exception": false,
     "start_time": "2022-12-31T01:35:09.628896",
     "status": "completed"
    },
    "tags": []
   },
   "outputs": [],
   "source": [
    "max_cat = X_full['Neighborhood'].nunique() #25"
   ]
  },
  {
   "cell_type": "markdown",
   "id": "equivalent-italy",
   "metadata": {
    "execution": {
     "iopub.execute_input": "2022-12-31T00:41:17.882461Z",
     "iopub.status.busy": "2022-12-31T00:41:17.882064Z",
     "iopub.status.idle": "2022-12-31T00:41:17.885886Z",
     "shell.execute_reply": "2022-12-31T00:41:17.885076Z",
     "shell.execute_reply.started": "2022-12-31T00:41:17.882418Z"
    },
    "papermill": {
     "duration": 0.038494,
     "end_time": "2022-12-31T01:35:09.756956",
     "exception": false,
     "start_time": "2022-12-31T01:35:09.718462",
     "status": "completed"
    },
    "tags": []
   },
   "source": [
    "### Agregando colunas"
   ]
  },
  {
   "cell_type": "code",
   "execution_count": 10,
   "id": "australian-assets",
   "metadata": {
    "execution": {
     "iopub.execute_input": "2022-12-31T01:35:09.845299Z",
     "iopub.status.busy": "2022-12-31T01:35:09.844338Z",
     "iopub.status.idle": "2022-12-31T01:35:09.867870Z",
     "shell.execute_reply": "2022-12-31T01:35:09.867098Z",
     "shell.execute_reply.started": "2022-12-31T01:14:21.573699Z"
    },
    "papermill": {
     "duration": 0.072394,
     "end_time": "2022-12-31T01:35:09.868024",
     "exception": false,
     "start_time": "2022-12-31T01:35:09.795630",
     "status": "completed"
    },
    "tags": []
   },
   "outputs": [
    {
     "name": "stdout",
     "output_type": "stream",
     "text": [
      ">>numeric_features: ['MSSubClass', 'LotFrontage', 'LotArea', 'OverallQual', 'OverallCond', 'YearBuilt', 'YearRemodAdd', 'MasVnrArea', 'BsmtFinSF1', 'BsmtFinSF2', 'BsmtUnfSF', 'TotalBsmtSF', '1stFlrSF', '2ndFlrSF', 'LowQualFinSF', 'GrLivArea', 'BsmtFullBath', 'BsmtHalfBath', 'FullBath', 'HalfBath', 'BedroomAbvGr', 'KitchenAbvGr', 'TotRmsAbvGrd', 'Fireplaces', 'GarageYrBlt', 'GarageCars', 'GarageArea', 'WoodDeckSF', 'OpenPorchSF', 'EnclosedPorch', '3SsnPorch', 'ScreenPorch', 'PoolArea', 'MiscVal', 'MoSold', 'YrSold'] 36\n",
      "\n",
      ">>cat_features: ['MSZoning', 'Street', 'Alley', 'LotShape', 'LandContour', 'Utilities', 'LotConfig', 'LandSlope', 'Neighborhood', 'Condition1', 'Condition2', 'BldgType', 'HouseStyle', 'RoofStyle', 'RoofMatl', 'Exterior1st', 'Exterior2nd', 'MasVnrType', 'ExterQual', 'ExterCond', 'Foundation', 'BsmtQual', 'BsmtCond', 'BsmtExposure', 'BsmtFinType1', 'BsmtFinType2', 'Heating', 'HeatingQC', 'CentralAir', 'Electrical', 'KitchenQual', 'Functional', 'FireplaceQu', 'GarageType', 'GarageFinish', 'GarageQual', 'GarageCond', 'PavedDrive', 'PoolQC', 'Fence', 'MiscFeature', 'SaleType', 'SaleCondition'] 43\n",
      "\n",
      ">>>ordianl features: ['ExterQual', 'ExterCond', 'BsmtQual', 'HeatingQC', 'KitchenQual', 'FireplaceQu', 'GarageQual', 'GarageCond', 'PoolQC'] - 9\n",
      "\n",
      ">>>nominal_features:['LotConfig', 'LandSlope', 'MasVnrType', 'SaleType', 'Foundation', 'Exterior1st', 'SaleCondition', 'MiscFeature', 'Utilities', 'Neighborhood', 'BsmtFinType2', 'BsmtExposure', 'BsmtCond', 'Condition1', 'BldgType', 'Heating', 'RoofStyle', 'GarageType', 'LandContour', 'Fence', 'Condition2', 'HouseStyle', 'Electrical', 'LotShape', 'Alley', 'CentralAir', 'GarageFinish', 'Street', 'MSZoning', 'PavedDrive', 'RoofMatl', 'Exterior2nd', 'BsmtFinType1', 'Functional'] - 34\n"
     ]
    }
   ],
   "source": [
    "#Agrupando features numéricas\n",
    "numeric_features  = [cls for cls in X.columns if X[cls].dtype == 'float64' or X[cls].dtype =='int64']\n",
    "print('>>numeric_features:', numeric_features ,\n",
    "      len(numeric_features))\n",
    "\n",
    "\n",
    "#Agrupando features categoricas\n",
    "cat_features = [cls for cls in X.columns if X[cls].dtypes == 'object' and X[cls].nunique()<=max_cat]\n",
    "print('\\n>>cat_features:', cat_features ,\n",
    "      len(cat_features))\n",
    "\n",
    "#agurpando features categoricas orginais\n",
    "ordinal_features = ['ExterQual','ExterCond','BsmtQual','HeatingQC','KitchenQual','FireplaceQu','GarageQual','GarageCond','PoolQC']\n",
    "print(f'\\n>>>ordianl features: {ordinal_features} - {len(ordinal_features)}')\n",
    "\n",
    "#agrupando features categorias nominais\n",
    "nominal_features = list(set(cat_features) - set(ordinal_features))\n",
    "print(f'\\n>>>nominal_features:{nominal_features} - {len(nominal_features)}')"
   ]
  },
  {
   "cell_type": "markdown",
   "id": "ultimate-dynamics",
   "metadata": {
    "papermill": {
     "duration": 0.036207,
     "end_time": "2022-12-31T01:35:09.941082",
     "exception": false,
     "start_time": "2022-12-31T01:35:09.904875",
     "status": "completed"
    },
    "tags": []
   },
   "source": [
    "A fim de facilitar as transformações de dados, a célula acima agrupa as `features` em algumas categorias:\n",
    "* `numeric_features` são as variáveis numéricas\n",
    "* `cat_features` são as variáveis catégoricas, não numéricas\n",
    "    * `ordinal_features` são variáveis categóricas que possuem alguma ordem ou grau. Tal como encontramos em `PoolQC` em que nos é indicado o nível de qualidade da piscina da casa:\n",
    "        *     Excelente\n",
    "        *     bom\n",
    "        *     mediano\n",
    "        *     ruim\n",
    "        *     sem piscina\n",
    "* `nominal_features` indicam um número qualidativo, ao contrario das ordinais estas variáveis não possuem ordem,\n",
    "       "
   ]
  },
  {
   "cell_type": "code",
   "execution_count": 11,
   "id": "opposite-party",
   "metadata": {
    "execution": {
     "iopub.execute_input": "2022-12-31T01:35:10.020774Z",
     "iopub.status.busy": "2022-12-31T01:35:10.020048Z",
     "iopub.status.idle": "2022-12-31T01:35:10.213556Z",
     "shell.execute_reply": "2022-12-31T01:35:10.212842Z",
     "shell.execute_reply.started": "2022-12-31T01:14:24.284602Z"
    },
    "papermill": {
     "duration": 0.236588,
     "end_time": "2022-12-31T01:35:10.213714",
     "exception": false,
     "start_time": "2022-12-31T01:35:09.977126",
     "status": "completed"
    },
    "tags": []
   },
   "outputs": [
    {
     "name": "stderr",
     "output_type": "stream",
     "text": [
      "/opt/conda/lib/python3.7/site-packages/seaborn/_decorators.py:43: FutureWarning: Pass the following variable as a keyword arg: x. From version 0.12, the only valid positional argument will be `data`, and passing other arguments without an explicit keyword will result in an error or misinterpretation.\n",
      "  FutureWarning\n"
     ]
    },
    {
     "data": {
      "text/plain": [
       "Text(0.5, 1.0, 'Frequência Qualidade da piscina')"
      ]
     },
     "execution_count": 11,
     "metadata": {},
     "output_type": "execute_result"
    },
    {
     "data": {
      "image/png": "[encoded data removed]",
      "text/plain": [
       "<Figure size 576x432 with 1 Axes>"
      ]
     },
     "metadata": {
      "needs_background": "light"
     },
     "output_type": "display_data"
    }
   ],
   "source": [
    "plt.figure(figsize=(8,6))\n",
    "sns.countplot(X['PoolQC'],)\n",
    "plt.title('Frequência Qualidade da piscina')"
   ]
  },
  {
   "cell_type": "code",
   "execution_count": 12,
   "id": "announced-skill",
   "metadata": {
    "execution": {
     "iopub.execute_input": "2022-12-31T01:35:10.308997Z",
     "iopub.status.busy": "2022-12-31T01:35:10.308028Z",
     "iopub.status.idle": "2022-12-31T01:35:10.312971Z",
     "shell.execute_reply": "2022-12-31T01:35:10.312123Z",
     "shell.execute_reply.started": "2022-12-31T01:24:02.462974Z"
    },
    "papermill": {
     "duration": 0.062081,
     "end_time": "2022-12-31T01:35:10.313124",
     "exception": false,
     "start_time": "2022-12-31T01:35:10.251043",
     "status": "completed"
    },
    "tags": []
   },
   "outputs": [
    {
     "data": {
      "text/html": [
       "<div>\n",
       "<style scoped>\n",
       "    .dataframe tbody tr th:only-of-type {\n",
       "        vertical-align: middle;\n",
       "    }\n",
       "\n",
       "    .dataframe tbody tr th {\n",
       "        vertical-align: top;\n",
       "    }\n",
       "\n",
       "    .dataframe thead th {\n",
       "        text-align: right;\n",
       "    }\n",
       "</style>\n",
       "<table border=\"1\" class=\"dataframe\">\n",
       "  <thead>\n",
       "    <tr style=\"text-align: right;\">\n",
       "      <th></th>\n",
       "      <th>numeric_features</th>\n",
       "      <th>null_values</th>\n",
       "    </tr>\n",
       "  </thead>\n",
       "  <tbody>\n",
       "    <tr>\n",
       "      <th>1</th>\n",
       "      <td>LotFrontage</td>\n",
       "      <td>259</td>\n",
       "    </tr>\n",
       "    <tr>\n",
       "      <th>24</th>\n",
       "      <td>GarageYrBlt</td>\n",
       "      <td>81</td>\n",
       "    </tr>\n",
       "    <tr>\n",
       "      <th>7</th>\n",
       "      <td>MasVnrArea</td>\n",
       "      <td>8</td>\n",
       "    </tr>\n",
       "    <tr>\n",
       "      <th>27</th>\n",
       "      <td>WoodDeckSF</td>\n",
       "      <td>0</td>\n",
       "    </tr>\n",
       "    <tr>\n",
       "      <th>20</th>\n",
       "      <td>BedroomAbvGr</td>\n",
       "      <td>0</td>\n",
       "    </tr>\n",
       "  </tbody>\n",
       "</table>\n",
       "</div>"
      ],
      "text/plain": [
       "   numeric_features  null_values\n",
       "1       LotFrontage          259\n",
       "24      GarageYrBlt           81\n",
       "7        MasVnrArea            8\n",
       "27       WoodDeckSF            0\n",
       "20     BedroomAbvGr            0"
      ]
     },
     "execution_count": 12,
     "metadata": {},
     "output_type": "execute_result"
    }
   ],
   "source": [
    "cols_null =  [[col,X[col].isnull().sum()] for col in numeric_features]\n",
    "\n",
    "pd_null = pd.DataFrame(cols_null)\n",
    "pd_null.rename(columns={0: 'numeric_features',1:'null_values'},inplace=True)\n",
    "pd_null.sort_values(by=['null_values'],ascending=False,inplace=True)\n",
    "pd_null.head()"
   ]
  },
  {
   "cell_type": "markdown",
   "id": "becoming-method",
   "metadata": {
    "papermill": {
     "duration": 0.039316,
     "end_time": "2022-12-31T01:35:10.392896",
     "exception": false,
     "start_time": "2022-12-31T01:35:10.353580",
     "status": "completed"
    },
    "tags": []
   },
   "source": [
    "Das variáveis numéricas, apenas:\n",
    "* LotFrontage\n",
    "* GarageYrBlt\n",
    "\n",
    "possuem valores ausentes\n"
   ]
  },
  {
   "cell_type": "code",
   "execution_count": 13,
   "id": "interracial-blanket",
   "metadata": {
    "execution": {
     "iopub.execute_input": "2022-12-31T01:35:10.506064Z",
     "iopub.status.busy": "2022-12-31T01:35:10.505057Z",
     "iopub.status.idle": "2022-12-31T01:35:10.510913Z",
     "shell.execute_reply": "2022-12-31T01:35:10.510153Z",
     "shell.execute_reply.started": "2022-12-31T01:26:22.215006Z"
    },
    "papermill": {
     "duration": 0.079268,
     "end_time": "2022-12-31T01:35:10.511122",
     "exception": false,
     "start_time": "2022-12-31T01:35:10.431854",
     "status": "completed"
    },
    "tags": []
   },
   "outputs": [
    {
     "data": {
      "text/html": [
       "<div>\n",
       "<style scoped>\n",
       "    .dataframe tbody tr th:only-of-type {\n",
       "        vertical-align: middle;\n",
       "    }\n",
       "\n",
       "    .dataframe tbody tr th {\n",
       "        vertical-align: top;\n",
       "    }\n",
       "\n",
       "    .dataframe thead th {\n",
       "        text-align: right;\n",
       "    }\n",
       "</style>\n",
       "<table border=\"1\" class=\"dataframe\">\n",
       "  <thead>\n",
       "    <tr style=\"text-align: right;\">\n",
       "      <th></th>\n",
       "      <th>cat_features</th>\n",
       "      <th>null_values</th>\n",
       "    </tr>\n",
       "  </thead>\n",
       "  <tbody>\n",
       "    <tr>\n",
       "      <th>38</th>\n",
       "      <td>PoolQC</td>\n",
       "      <td>1453</td>\n",
       "    </tr>\n",
       "    <tr>\n",
       "      <th>40</th>\n",
       "      <td>MiscFeature</td>\n",
       "      <td>1406</td>\n",
       "    </tr>\n",
       "    <tr>\n",
       "      <th>2</th>\n",
       "      <td>Alley</td>\n",
       "      <td>1369</td>\n",
       "    </tr>\n",
       "    <tr>\n",
       "      <th>39</th>\n",
       "      <td>Fence</td>\n",
       "      <td>1179</td>\n",
       "    </tr>\n",
       "    <tr>\n",
       "      <th>32</th>\n",
       "      <td>FireplaceQu</td>\n",
       "      <td>690</td>\n",
       "    </tr>\n",
       "    <tr>\n",
       "      <th>33</th>\n",
       "      <td>GarageType</td>\n",
       "      <td>81</td>\n",
       "    </tr>\n",
       "    <tr>\n",
       "      <th>36</th>\n",
       "      <td>GarageCond</td>\n",
       "      <td>81</td>\n",
       "    </tr>\n",
       "    <tr>\n",
       "      <th>35</th>\n",
       "      <td>GarageQual</td>\n",
       "      <td>81</td>\n",
       "    </tr>\n",
       "    <tr>\n",
       "      <th>34</th>\n",
       "      <td>GarageFinish</td>\n",
       "      <td>81</td>\n",
       "    </tr>\n",
       "    <tr>\n",
       "      <th>25</th>\n",
       "      <td>BsmtFinType2</td>\n",
       "      <td>38</td>\n",
       "    </tr>\n",
       "    <tr>\n",
       "      <th>23</th>\n",
       "      <td>BsmtExposure</td>\n",
       "      <td>38</td>\n",
       "    </tr>\n",
       "    <tr>\n",
       "      <th>24</th>\n",
       "      <td>BsmtFinType1</td>\n",
       "      <td>37</td>\n",
       "    </tr>\n",
       "    <tr>\n",
       "      <th>21</th>\n",
       "      <td>BsmtQual</td>\n",
       "      <td>37</td>\n",
       "    </tr>\n",
       "    <tr>\n",
       "      <th>22</th>\n",
       "      <td>BsmtCond</td>\n",
       "      <td>37</td>\n",
       "    </tr>\n",
       "    <tr>\n",
       "      <th>17</th>\n",
       "      <td>MasVnrType</td>\n",
       "      <td>8</td>\n",
       "    </tr>\n",
       "    <tr>\n",
       "      <th>29</th>\n",
       "      <td>Electrical</td>\n",
       "      <td>1</td>\n",
       "    </tr>\n",
       "    <tr>\n",
       "      <th>31</th>\n",
       "      <td>Functional</td>\n",
       "      <td>0</td>\n",
       "    </tr>\n",
       "    <tr>\n",
       "      <th>30</th>\n",
       "      <td>KitchenQual</td>\n",
       "      <td>0</td>\n",
       "    </tr>\n",
       "    <tr>\n",
       "      <th>28</th>\n",
       "      <td>CentralAir</td>\n",
       "      <td>0</td>\n",
       "    </tr>\n",
       "    <tr>\n",
       "      <th>27</th>\n",
       "      <td>HeatingQC</td>\n",
       "      <td>0</td>\n",
       "    </tr>\n",
       "  </tbody>\n",
       "</table>\n",
       "</div>"
      ],
      "text/plain": [
       "    cat_features  null_values\n",
       "38        PoolQC         1453\n",
       "40   MiscFeature         1406\n",
       "2          Alley         1369\n",
       "39         Fence         1179\n",
       "32   FireplaceQu          690\n",
       "33    GarageType           81\n",
       "36    GarageCond           81\n",
       "35    GarageQual           81\n",
       "34  GarageFinish           81\n",
       "25  BsmtFinType2           38\n",
       "23  BsmtExposure           38\n",
       "24  BsmtFinType1           37\n",
       "21      BsmtQual           37\n",
       "22      BsmtCond           37\n",
       "17    MasVnrType            8\n",
       "29    Electrical            1\n",
       "31    Functional            0\n",
       "30   KitchenQual            0\n",
       "28    CentralAir            0\n",
       "27     HeatingQC            0"
      ]
     },
     "execution_count": 13,
     "metadata": {},
     "output_type": "execute_result"
    }
   ],
   "source": [
    "cols_null =  [[col,X[col].isnull().sum()] for col in cat_features]\n",
    "\n",
    "pd_null = pd.DataFrame(cols_null)\n",
    "pd_null.rename(columns={0: 'cat_features',1:'null_values'},inplace=True)\n",
    "pd_null.sort_values(by=['null_values'],ascending=False,inplace=True)\n",
    "pd_null.head(20)"
   ]
  },
  {
   "cell_type": "markdown",
   "id": "stuck-cherry",
   "metadata": {
    "execution": {
     "iopub.execute_input": "2022-12-31T01:27:05.164932Z",
     "iopub.status.busy": "2022-12-31T01:27:05.164545Z",
     "iopub.status.idle": "2022-12-31T01:27:05.172511Z",
     "shell.execute_reply": "2022-12-31T01:27:05.170815Z",
     "shell.execute_reply.started": "2022-12-31T01:27:05.164898Z"
    },
    "papermill": {
     "duration": 0.040962,
     "end_time": "2022-12-31T01:35:10.593606",
     "exception": false,
     "start_time": "2022-12-31T01:35:10.552644",
     "status": "completed"
    },
    "tags": []
   },
   "source": [
    "Ao contrário das numéricas, as categóricas possuem uma maior quantidade de valores ausentes"
   ]
  },
  {
   "cell_type": "markdown",
   "id": "suited-seafood",
   "metadata": {
    "papermill": {
     "duration": 0.042706,
     "end_time": "2022-12-31T01:35:10.677965",
     "exception": false,
     "start_time": "2022-12-31T01:35:10.635259",
     "status": "completed"
    },
    "tags": []
   },
   "source": [
    "# Processamento de dados e modelagem"
   ]
  },
  {
   "cell_type": "markdown",
   "id": "competitive-thumb",
   "metadata": {
    "papermill": {
     "duration": 0.041148,
     "end_time": "2022-12-31T01:35:10.760721",
     "exception": false,
     "start_time": "2022-12-31T01:35:10.719573",
     "status": "completed"
    },
    "tags": []
   },
   "source": [
    "Após a separação dos tipos de variáveis do dataset, criaremos as etapas de transformação de dados"
   ]
  },
  {
   "cell_type": "markdown",
   "id": "cubic-russian",
   "metadata": {
    "papermill": {
     "duration": 0.038833,
     "end_time": "2022-12-31T01:35:10.840596",
     "exception": false,
     "start_time": "2022-12-31T01:35:10.801763",
     "status": "completed"
    },
    "tags": []
   },
   "source": [
    "## Imputação e codificação"
   ]
  },
  {
   "cell_type": "markdown",
   "id": "leading-pearl",
   "metadata": {
    "papermill": {
     "duration": 0.039687,
     "end_time": "2022-12-31T01:35:10.919750",
     "exception": false,
     "start_time": "2022-12-31T01:35:10.880063",
     "status": "completed"
    },
    "tags": []
   },
   "source": [
    "Para as variáveis numéricas, substituiremos o valores `NAN` por uma medida de centralidade, neste caso a ***mediana***"
   ]
  },
  {
   "cell_type": "code",
   "execution_count": 14,
   "id": "requested-ethernet",
   "metadata": {
    "execution": {
     "iopub.execute_input": "2022-12-31T01:35:11.002378Z",
     "iopub.status.busy": "2022-12-31T01:35:11.000048Z",
     "iopub.status.idle": "2022-12-31T01:35:11.006333Z",
     "shell.execute_reply": "2022-12-31T01:35:11.005557Z",
     "shell.execute_reply.started": "2022-12-31T01:05:22.423906Z"
    },
    "papermill": {
     "duration": 0.04804,
     "end_time": "2022-12-31T01:35:11.006493",
     "exception": false,
     "start_time": "2022-12-31T01:35:10.958453",
     "status": "completed"
    },
    "tags": []
   },
   "outputs": [],
   "source": [
    "numerical_transformer = SimpleImputer(strategy='median')"
   ]
  },
  {
   "cell_type": "markdown",
   "id": "separate-maldives",
   "metadata": {
    "papermill": {
     "duration": 0.037709,
     "end_time": "2022-12-31T01:35:11.083776",
     "exception": false,
     "start_time": "2022-12-31T01:35:11.046067",
     "status": "completed"
    },
    "tags": []
   },
   "source": [
    "## Pipeline e transformação"
   ]
  },
  {
   "cell_type": "code",
   "execution_count": 15,
   "id": "minimal-chrome",
   "metadata": {
    "execution": {
     "iopub.execute_input": "2022-12-31T01:35:11.167221Z",
     "iopub.status.busy": "2022-12-31T01:35:11.166351Z",
     "iopub.status.idle": "2022-12-31T01:35:11.169542Z",
     "shell.execute_reply": "2022-12-31T01:35:11.169000Z",
     "shell.execute_reply.started": "2022-12-31T01:05:22.431323Z"
    },
    "papermill": {
     "duration": 0.047925,
     "end_time": "2022-12-31T01:35:11.169703",
     "exception": false,
     "start_time": "2022-12-31T01:35:11.121778",
     "status": "completed"
    },
    "tags": []
   },
   "outputs": [],
   "source": [
    "\n",
    "nominal_transformer = Pipeline(steps=[\n",
    "    ('imputer', SimpleImputer(strategy='most_frequent')), #MODA\n",
    "    ('onehot', OneHotEncoder(handle_unknown='ignore'))\n",
    "])\n",
    "\n",
    "ordinal_transformer = Pipeline(steps=[\n",
    "    ('imputer', SimpleImputer(strategy='most_frequent')), #MODA\n",
    "    ('ordinal', OrdinalEncoder(handle_unknown='ignore'))\n",
    "])\n",
    "\n",
    "\n"
   ]
  },
  {
   "cell_type": "markdown",
   "id": "unable-boston",
   "metadata": {
    "papermill": {
     "duration": 0.040628,
     "end_time": "2022-12-31T01:35:11.250608",
     "exception": false,
     "start_time": "2022-12-31T01:35:11.209980",
     "status": "completed"
    },
    "tags": []
   },
   "source": [
    "Aqui está o motivo pelo quais separamos os dados anteriormente. De forma a facilitar a codificação de dados categóricos nominais e ordinais, utilizamos dois métodos\n",
    "\n",
    "* Foi-se optado pelo OneHotEnconde para as variáveis nominais, haja vista variabilidade das informações\n",
    "* No entanto, Ordinal Encoder foi pensando na ordenação natural das variáveis ordinais\n",
    "\n",
    "Além disso, optamos por substituir também usando uma medida descritiva dos dados, a MODA\n",
    "\n"
   ]
  },
  {
   "cell_type": "code",
   "execution_count": 16,
   "id": "square-directive",
   "metadata": {
    "execution": {
     "iopub.execute_input": "2022-12-31T01:35:11.337795Z",
     "iopub.status.busy": "2022-12-31T01:35:11.336911Z",
     "iopub.status.idle": "2022-12-31T01:35:11.340365Z",
     "shell.execute_reply": "2022-12-31T01:35:11.339619Z",
     "shell.execute_reply.started": "2022-12-31T01:05:22.446182Z"
    },
    "papermill": {
     "duration": 0.048594,
     "end_time": "2022-12-31T01:35:11.340526",
     "exception": false,
     "start_time": "2022-12-31T01:35:11.291932",
     "status": "completed"
    },
    "tags": []
   },
   "outputs": [],
   "source": [
    "preprocessor = ColumnTransformer(\n",
    "                transformers=[\n",
    "                    ('num', numerical_transformer, numeric_features),\n",
    "                    ('cat_nom', nominal_transformer, nominal_features),\n",
    "                    ('ord_nom', ordinal_transformer, ordinal_features)\n",
    "                ])\n"
   ]
  },
  {
   "cell_type": "markdown",
   "id": "figured-orlando",
   "metadata": {
    "execution": {
     "iopub.execute_input": "2022-12-31T00:51:19.200109Z",
     "iopub.status.busy": "2022-12-31T00:51:19.199365Z",
     "iopub.status.idle": "2022-12-31T00:51:19.205740Z",
     "shell.execute_reply": "2022-12-31T00:51:19.204438Z",
     "shell.execute_reply.started": "2022-12-31T00:51:19.200067Z"
    },
    "papermill": {
     "duration": 0.039253,
     "end_time": "2022-12-31T01:35:11.419093",
     "exception": false,
     "start_time": "2022-12-31T01:35:11.379840",
     "status": "completed"
    },
    "tags": []
   },
   "source": [
    "Em seguida, `ColumnTransformer()` é o responsável por aplicar cada transformador criado à sua determinada coluna de dados"
   ]
  },
  {
   "cell_type": "markdown",
   "id": "focused-trust",
   "metadata": {
    "execution": {
     "iopub.execute_input": "2022-12-31T00:58:38.074299Z",
     "iopub.status.busy": "2022-12-31T00:58:38.073884Z",
     "iopub.status.idle": "2022-12-31T00:58:38.079432Z",
     "shell.execute_reply": "2022-12-31T00:58:38.078120Z",
     "shell.execute_reply.started": "2022-12-31T00:58:38.074264Z"
    },
    "papermill": {
     "duration": 0.039009,
     "end_time": "2022-12-31T01:35:11.498126",
     "exception": false,
     "start_time": "2022-12-31T01:35:11.459117",
     "status": "completed"
    },
    "tags": []
   },
   "source": [
    "### Pipeline"
   ]
  },
  {
   "cell_type": "code",
   "execution_count": 17,
   "id": "received-fortune",
   "metadata": {
    "execution": {
     "iopub.execute_input": "2022-12-31T01:35:11.582004Z",
     "iopub.status.busy": "2022-12-31T01:35:11.578779Z",
     "iopub.status.idle": "2022-12-31T01:35:11.584143Z",
     "shell.execute_reply": "2022-12-31T01:35:11.584727Z",
     "shell.execute_reply.started": "2022-12-31T01:05:22.464109Z"
    },
    "papermill": {
     "duration": 0.047294,
     "end_time": "2022-12-31T01:35:11.584910",
     "exception": false,
     "start_time": "2022-12-31T01:35:11.537616",
     "status": "completed"
    },
    "tags": []
   },
   "outputs": [],
   "source": [
    "pipe = Pipeline(steps=[\n",
    "        ('preprocessor', preprocessor),\n",
    "        ('minmaxscaler', MinMaxScaler()),\n",
    "        ('stdscaler',  StandardScaler()),\n",
    "        ('regressor', RandomForestRegressor(n_estimators=200,random_state=0, criterion='mse',max_depth=10))\n",
    "    \n",
    "])"
   ]
  },
  {
   "cell_type": "markdown",
   "id": "coupled-skiing",
   "metadata": {
    "papermill": {
     "duration": 0.038582,
     "end_time": "2022-12-31T01:35:11.662078",
     "exception": false,
     "start_time": "2022-12-31T01:35:11.623496",
     "status": "completed"
    },
    "tags": []
   },
   "source": [
    "Dada as transformações, foi necessário aplicar outras técnicas ao conjunto. `MinMaxScaler` e `StandardScaler` reduzem a escala proporcionalmente dos valores e assim como normalizam estatisticamente os mesmos\n",
    "\n",
    "O modelo de regressão escolhido foi o `Random Forest` devido a sua robustês e simplicidade na otimização dos hiperparâmetros\n",
    "\n",
    "Por fim, a `Pipeline` reune todos os processos e os aplica sequencialmente "
   ]
  },
  {
   "cell_type": "markdown",
   "id": "interstate-allergy",
   "metadata": {
    "papermill": {
     "duration": 0.038742,
     "end_time": "2022-12-31T01:35:11.738750",
     "exception": false,
     "start_time": "2022-12-31T01:35:11.700008",
     "status": "completed"
    },
    "tags": []
   },
   "source": [
    "## Treinamento e Predição"
   ]
  },
  {
   "cell_type": "markdown",
   "id": "printable-budapest",
   "metadata": {
    "papermill": {
     "duration": 0.03869,
     "end_time": "2022-12-31T01:35:11.817251",
     "exception": false,
     "start_time": "2022-12-31T01:35:11.778561",
     "status": "completed"
    },
    "tags": []
   },
   "source": [
    "Separando os dados de treino e validação"
   ]
  },
  {
   "cell_type": "code",
   "execution_count": 18,
   "id": "sticky-indianapolis",
   "metadata": {
    "execution": {
     "iopub.execute_input": "2022-12-31T01:35:11.904752Z",
     "iopub.status.busy": "2022-12-31T01:35:11.903773Z",
     "iopub.status.idle": "2022-12-31T01:35:11.910536Z",
     "shell.execute_reply": "2022-12-31T01:35:11.911146Z",
     "shell.execute_reply.started": "2022-12-31T01:05:22.479086Z"
    },
    "papermill": {
     "duration": 0.054178,
     "end_time": "2022-12-31T01:35:11.911365",
     "exception": false,
     "start_time": "2022-12-31T01:35:11.857187",
     "status": "completed"
    },
    "tags": []
   },
   "outputs": [],
   "source": [
    "X_train, X_val, y_train, y_val = train_test_split(X, y, train_size=0.8, random_state=3)"
   ]
  },
  {
   "cell_type": "markdown",
   "id": "joint-saudi",
   "metadata": {
    "papermill": {
     "duration": 0.03985,
     "end_time": "2022-12-31T01:35:11.992958",
     "exception": false,
     "start_time": "2022-12-31T01:35:11.953108",
     "status": "completed"
    },
    "tags": []
   },
   "source": [
    "Treinando o modelo"
   ]
  },
  {
   "cell_type": "code",
   "execution_count": 19,
   "id": "upset-functionality",
   "metadata": {
    "execution": {
     "iopub.execute_input": "2022-12-31T01:35:12.079734Z",
     "iopub.status.busy": "2022-12-31T01:35:12.078679Z",
     "iopub.status.idle": "2022-12-31T01:35:16.197962Z",
     "shell.execute_reply": "2022-12-31T01:35:16.197250Z",
     "shell.execute_reply.started": "2022-12-31T01:05:22.497077Z"
    },
    "papermill": {
     "duration": 4.166383,
     "end_time": "2022-12-31T01:35:16.198113",
     "exception": false,
     "start_time": "2022-12-31T01:35:12.031730",
     "status": "completed"
    },
    "tags": []
   },
   "outputs": [
    {
     "data": {
      "text/plain": [
       "Pipeline(steps=[('preprocessor',\n",
       "                 ColumnTransformer(transformers=[('num',\n",
       "                                                  SimpleImputer(strategy='median'),\n",
       "                                                  ['MSSubClass', 'LotFrontage',\n",
       "                                                   'LotArea', 'OverallQual',\n",
       "                                                   'OverallCond', 'YearBuilt',\n",
       "                                                   'YearRemodAdd', 'MasVnrArea',\n",
       "                                                   'BsmtFinSF1', 'BsmtFinSF2',\n",
       "                                                   'BsmtUnfSF', 'TotalBsmtSF',\n",
       "                                                   '1stFlrSF', '2ndFlrSF',\n",
       "                                                   'LowQualFinSF', 'GrLivArea',\n",
       "                                                   'BsmtFullBath',\n",
       "                                                   'BsmtHalfBath', 'FullBath...\n",
       "                                                                   SimpleImputer(strategy='most_frequent')),\n",
       "                                                                  ('ordinal',\n",
       "                                                                   OrdinalEncoder(handle_unknown='ignore'))]),\n",
       "                                                  ['ExterQual', 'ExterCond',\n",
       "                                                   'BsmtQual', 'HeatingQC',\n",
       "                                                   'KitchenQual', 'FireplaceQu',\n",
       "                                                   'GarageQual', 'GarageCond',\n",
       "                                                   'PoolQC'])])),\n",
       "                ('minmaxscaler', MinMaxScaler()),\n",
       "                ('stdscaler', StandardScaler()),\n",
       "                ('regressor',\n",
       "                 RandomForestRegressor(max_depth=10, n_estimators=200,\n",
       "                                       random_state=0))])"
      ]
     },
     "execution_count": 19,
     "metadata": {},
     "output_type": "execute_result"
    }
   ],
   "source": [
    "pipe.fit(X_train, y_train)"
   ]
  },
  {
   "cell_type": "markdown",
   "id": "grateful-yesterday",
   "metadata": {
    "papermill": {
     "duration": 0.03819,
     "end_time": "2022-12-31T01:35:16.276992",
     "exception": false,
     "start_time": "2022-12-31T01:35:16.238802",
     "status": "completed"
    },
    "tags": []
   },
   "source": [
    "Ótimo, agora vamos as previsões nos dados de validação"
   ]
  },
  {
   "cell_type": "code",
   "execution_count": 20,
   "id": "metallic-birth",
   "metadata": {
    "execution": {
     "iopub.execute_input": "2022-12-31T01:35:16.359344Z",
     "iopub.status.busy": "2022-12-31T01:35:16.358617Z",
     "iopub.status.idle": "2022-12-31T01:35:16.408940Z",
     "shell.execute_reply": "2022-12-31T01:35:16.409473Z",
     "shell.execute_reply.started": "2022-12-31T01:05:26.717053Z"
    },
    "papermill": {
     "duration": 0.094249,
     "end_time": "2022-12-31T01:35:16.409671",
     "exception": false,
     "start_time": "2022-12-31T01:35:16.315422",
     "status": "completed"
    },
    "tags": []
   },
   "outputs": [],
   "source": [
    "val_predictions = pipe.predict(X_val)"
   ]
  },
  {
   "cell_type": "code",
   "execution_count": 21,
   "id": "modern-arena",
   "metadata": {
    "execution": {
     "iopub.execute_input": "2022-12-31T01:35:16.497968Z",
     "iopub.status.busy": "2022-12-31T01:35:16.497155Z",
     "iopub.status.idle": "2022-12-31T01:35:16.501530Z",
     "shell.execute_reply": "2022-12-31T01:35:16.500898Z",
     "shell.execute_reply.started": "2022-12-31T01:05:26.773139Z"
    },
    "papermill": {
     "duration": 0.05137,
     "end_time": "2022-12-31T01:35:16.501672",
     "exception": false,
     "start_time": "2022-12-31T01:35:16.450302",
     "status": "completed"
    },
    "tags": []
   },
   "outputs": [
    {
     "data": {
      "text/plain": [
       "30319.48200940082"
      ]
     },
     "execution_count": 21,
     "metadata": {},
     "output_type": "execute_result"
    }
   ],
   "source": [
    "mean_squared_error(y_val, val_predictions, squared=False)"
   ]
  },
  {
   "cell_type": "code",
   "execution_count": 22,
   "id": "stuck-radar",
   "metadata": {
    "execution": {
     "iopub.execute_input": "2022-12-31T01:35:16.587936Z",
     "iopub.status.busy": "2022-12-31T01:35:16.587002Z",
     "iopub.status.idle": "2022-12-31T01:35:16.592063Z",
     "shell.execute_reply": "2022-12-31T01:35:16.591508Z",
     "shell.execute_reply.started": "2022-12-31T01:05:26.783292Z"
    },
    "papermill": {
     "duration": 0.049759,
     "end_time": "2022-12-31T01:35:16.592235",
     "exception": false,
     "start_time": "2022-12-31T01:35:16.542476",
     "status": "completed"
    },
    "tags": []
   },
   "outputs": [
    {
     "data": {
      "text/plain": [
       "17049.48040019435"
      ]
     },
     "execution_count": 22,
     "metadata": {},
     "output_type": "execute_result"
    }
   ],
   "source": [
    "mean_absolute_error(y_val, val_predictions)"
   ]
  },
  {
   "cell_type": "markdown",
   "id": "solved-meter",
   "metadata": {
    "execution": {
     "iopub.execute_input": "2022-12-31T01:00:41.899307Z",
     "iopub.status.busy": "2022-12-31T01:00:41.898903Z",
     "iopub.status.idle": "2022-12-31T01:00:41.906021Z",
     "shell.execute_reply": "2022-12-31T01:00:41.904607Z",
     "shell.execute_reply.started": "2022-12-31T01:00:41.899274Z"
    },
    "papermill": {
     "duration": 0.040437,
     "end_time": "2022-12-31T01:35:16.673035",
     "exception": false,
     "start_time": "2022-12-31T01:35:16.632598",
     "status": "completed"
    },
    "tags": []
   },
   "source": [
    "Vamos facilitar a visualização destes dados "
   ]
  },
  {
   "cell_type": "code",
   "execution_count": 23,
   "id": "western-photograph",
   "metadata": {
    "execution": {
     "iopub.execute_input": "2022-12-31T01:35:16.758447Z",
     "iopub.status.busy": "2022-12-31T01:35:16.757695Z",
     "iopub.status.idle": "2022-12-31T01:35:16.777142Z",
     "shell.execute_reply": "2022-12-31T01:35:16.777730Z",
     "shell.execute_reply.started": "2022-12-31T01:05:26.799941Z"
    },
    "papermill": {
     "duration": 0.065501,
     "end_time": "2022-12-31T01:35:16.777917",
     "exception": false,
     "start_time": "2022-12-31T01:35:16.712416",
     "status": "completed"
    },
    "tags": []
   },
   "outputs": [
    {
     "data": {
      "text/html": [
       "<div>\n",
       "<style scoped>\n",
       "    .dataframe tbody tr th:only-of-type {\n",
       "        vertical-align: middle;\n",
       "    }\n",
       "\n",
       "    .dataframe tbody tr th {\n",
       "        vertical-align: top;\n",
       "    }\n",
       "\n",
       "    .dataframe thead th {\n",
       "        text-align: right;\n",
       "    }\n",
       "</style>\n",
       "<table border=\"1\" class=\"dataframe\">\n",
       "  <thead>\n",
       "    <tr style=\"text-align: right;\">\n",
       "      <th></th>\n",
       "      <th>y_val</th>\n",
       "      <th>val_pred</th>\n",
       "      <th>abs_err</th>\n",
       "    </tr>\n",
       "  </thead>\n",
       "  <tbody>\n",
       "    <tr>\n",
       "      <th>count</th>\n",
       "      <td>292.000000</td>\n",
       "      <td>292.000000</td>\n",
       "      <td>292.000000</td>\n",
       "    </tr>\n",
       "    <tr>\n",
       "      <th>mean</th>\n",
       "      <td>178248.863014</td>\n",
       "      <td>178758.095902</td>\n",
       "      <td>17049.480400</td>\n",
       "    </tr>\n",
       "    <tr>\n",
       "      <th>std</th>\n",
       "      <td>70389.950788</td>\n",
       "      <td>66695.593029</td>\n",
       "      <td>25114.662997</td>\n",
       "    </tr>\n",
       "    <tr>\n",
       "      <th>min</th>\n",
       "      <td>55000.000000</td>\n",
       "      <td>80147.584147</td>\n",
       "      <td>105.863001</td>\n",
       "    </tr>\n",
       "    <tr>\n",
       "      <th>25%</th>\n",
       "      <td>128800.000000</td>\n",
       "      <td>133168.066714</td>\n",
       "      <td>4694.769412</td>\n",
       "    </tr>\n",
       "    <tr>\n",
       "      <th>50%</th>\n",
       "      <td>158500.000000</td>\n",
       "      <td>157537.147090</td>\n",
       "      <td>10552.516287</td>\n",
       "    </tr>\n",
       "    <tr>\n",
       "      <th>75%</th>\n",
       "      <td>202600.000000</td>\n",
       "      <td>208665.014722</td>\n",
       "      <td>21424.223879</td>\n",
       "    </tr>\n",
       "    <tr>\n",
       "      <th>max</th>\n",
       "      <td>466500.000000</td>\n",
       "      <td>456228.826875</td>\n",
       "      <td>296228.826875</td>\n",
       "    </tr>\n",
       "  </tbody>\n",
       "</table>\n",
       "</div>"
      ],
      "text/plain": [
       "               y_val       val_pred        abs_err\n",
       "count     292.000000     292.000000     292.000000\n",
       "mean   178248.863014  178758.095902   17049.480400\n",
       "std     70389.950788   66695.593029   25114.662997\n",
       "min     55000.000000   80147.584147     105.863001\n",
       "25%    128800.000000  133168.066714    4694.769412\n",
       "50%    158500.000000  157537.147090   10552.516287\n",
       "75%    202600.000000  208665.014722   21424.223879\n",
       "max    466500.000000  456228.826875  296228.826875"
      ]
     },
     "execution_count": 23,
     "metadata": {},
     "output_type": "execute_result"
    }
   ],
   "source": [
    "pd.DataFrame({'y_val': y_val,\n",
    "            'val_pred': val_predictions,\n",
    "             'abs_err': abs(val_predictions-y_val)}).describe()"
   ]
  },
  {
   "cell_type": "markdown",
   "id": "powered-celtic",
   "metadata": {
    "papermill": {
     "duration": 0.039836,
     "end_time": "2022-12-31T01:35:16.857828",
     "exception": false,
     "start_time": "2022-12-31T01:35:16.817992",
     "status": "completed"
    },
    "tags": []
   },
   "source": [
    "### Predição no teste"
   ]
  },
  {
   "cell_type": "code",
   "execution_count": 24,
   "id": "direct-ethnic",
   "metadata": {
    "execution": {
     "iopub.execute_input": "2022-12-31T01:35:16.941023Z",
     "iopub.status.busy": "2022-12-31T01:35:16.940324Z",
     "iopub.status.idle": "2022-12-31T01:35:17.057248Z",
     "shell.execute_reply": "2022-12-31T01:35:17.057785Z",
     "shell.execute_reply.started": "2022-12-31T01:05:26.830129Z"
    },
    "papermill": {
     "duration": 0.160385,
     "end_time": "2022-12-31T01:35:17.057984",
     "exception": false,
     "start_time": "2022-12-31T01:35:16.897599",
     "status": "completed"
    },
    "tags": []
   },
   "outputs": [],
   "source": [
    "test_predict= pipe.predict(X_test)"
   ]
  },
  {
   "cell_type": "markdown",
   "id": "warming-chicken",
   "metadata": {
    "papermill": {
     "duration": 0.044032,
     "end_time": "2022-12-31T01:35:17.148277",
     "exception": false,
     "start_time": "2022-12-31T01:35:17.104245",
     "status": "completed"
    },
    "tags": []
   },
   "source": [
    "## Validando o modelo"
   ]
  },
  {
   "cell_type": "code",
   "execution_count": 25,
   "id": "executed-brain",
   "metadata": {
    "execution": {
     "iopub.execute_input": "2022-12-31T01:35:17.234955Z",
     "iopub.status.busy": "2022-12-31T01:35:17.234227Z",
     "iopub.status.idle": "2022-12-31T01:35:37.613192Z",
     "shell.execute_reply": "2022-12-31T01:35:37.612475Z",
     "shell.execute_reply.started": "2022-12-31T01:05:26.946226Z"
    },
    "papermill": {
     "duration": 20.422512,
     "end_time": "2022-12-31T01:35:37.613345",
     "exception": false,
     "start_time": "2022-12-31T01:35:17.190833",
     "status": "completed"
    },
    "tags": []
   },
   "outputs": [],
   "source": [
    "scores = -1 * cross_val_score(pipe, X, y, cv=5, scoring='neg_mean_absolute_error')"
   ]
  },
  {
   "cell_type": "code",
   "execution_count": 26,
   "id": "distributed-imperial",
   "metadata": {
    "execution": {
     "iopub.execute_input": "2022-12-31T01:35:37.701518Z",
     "iopub.status.busy": "2022-12-31T01:35:37.700798Z",
     "iopub.status.idle": "2022-12-31T01:35:37.705140Z",
     "shell.execute_reply": "2022-12-31T01:35:37.705728Z",
     "shell.execute_reply.started": "2022-12-31T01:05:47.502585Z"
    },
    "papermill": {
     "duration": 0.051306,
     "end_time": "2022-12-31T01:35:37.705910",
     "exception": false,
     "start_time": "2022-12-31T01:35:37.654604",
     "status": "completed"
    },
    "tags": []
   },
   "outputs": [
    {
     "data": {
      "text/plain": [
       "array([17867.00804211, 17659.84412387, 18042.87360773, 16368.17119959,\n",
       "       19178.88649047])"
      ]
     },
     "execution_count": 26,
     "metadata": {},
     "output_type": "execute_result"
    }
   ],
   "source": [
    "scores"
   ]
  },
  {
   "cell_type": "code",
   "execution_count": 27,
   "id": "female-painting",
   "metadata": {
    "execution": {
     "iopub.execute_input": "2022-12-31T01:35:37.792818Z",
     "iopub.status.busy": "2022-12-31T01:35:37.791983Z",
     "iopub.status.idle": "2022-12-31T01:35:37.794623Z",
     "shell.execute_reply": "2022-12-31T01:35:37.795224Z",
     "shell.execute_reply.started": "2022-12-31T01:05:47.511083Z"
    },
    "papermill": {
     "duration": 0.049451,
     "end_time": "2022-12-31T01:35:37.795405",
     "exception": false,
     "start_time": "2022-12-31T01:35:37.745954",
     "status": "completed"
    },
    "tags": []
   },
   "outputs": [
    {
     "data": {
      "text/plain": [
       "17823.356692753423"
      ]
     },
     "execution_count": 27,
     "metadata": {},
     "output_type": "execute_result"
    }
   ],
   "source": [
    "scores.mean()"
   ]
  },
  {
   "cell_type": "markdown",
   "id": "boring-senator",
   "metadata": {
    "papermill": {
     "duration": 0.040083,
     "end_time": "2022-12-31T01:35:37.876981",
     "exception": false,
     "start_time": "2022-12-31T01:35:37.836898",
     "status": "completed"
    },
    "tags": []
   },
   "source": [
    "26393.37534246575"
   ]
  },
  {
   "cell_type": "code",
   "execution_count": 28,
   "id": "exempt-charger",
   "metadata": {
    "execution": {
     "iopub.execute_input": "2022-12-31T01:35:37.963389Z",
     "iopub.status.busy": "2022-12-31T01:35:37.962648Z",
     "iopub.status.idle": "2022-12-31T01:35:37.967818Z",
     "shell.execute_reply": "2022-12-31T01:35:37.968359Z",
     "shell.execute_reply.started": "2022-12-31T01:05:47.524641Z"
    },
    "papermill": {
     "duration": 0.050295,
     "end_time": "2022-12-31T01:35:37.968541",
     "exception": false,
     "start_time": "2022-12-31T01:35:37.918246",
     "status": "completed"
    },
    "tags": []
   },
   "outputs": [
    {
     "data": {
      "text/plain": [
       "897.9816622226281"
      ]
     },
     "execution_count": 28,
     "metadata": {},
     "output_type": "execute_result"
    }
   ],
   "source": [
    "scores.std()"
   ]
  },
  {
   "cell_type": "markdown",
   "id": "touched-deficit",
   "metadata": {
    "papermill": {
     "duration": 0.040184,
     "end_time": "2022-12-31T01:35:38.049632",
     "exception": false,
     "start_time": "2022-12-31T01:35:38.009448",
     "status": "completed"
    },
    "tags": []
   },
   "source": [
    "# Arquivo de submissão"
   ]
  },
  {
   "cell_type": "code",
   "execution_count": 29,
   "id": "light-photography",
   "metadata": {
    "execution": {
     "iopub.execute_input": "2022-12-31T01:35:38.136830Z",
     "iopub.status.busy": "2022-12-31T01:35:38.136150Z",
     "iopub.status.idle": "2022-12-31T01:35:38.150705Z",
     "shell.execute_reply": "2022-12-31T01:35:38.151349Z",
     "shell.execute_reply.started": "2022-12-31T01:05:47.540590Z"
    },
    "papermill": {
     "duration": 0.058691,
     "end_time": "2022-12-31T01:35:38.151551",
     "exception": false,
     "start_time": "2022-12-31T01:35:38.092860",
     "status": "completed"
    },
    "tags": []
   },
   "outputs": [],
   "source": [
    "output = pd.DataFrame({'Id': X_test.index,\n",
    "                      'SalePrice': test_predict})\n",
    "\n",
    "output.set_index('Id', inplace=True)\n",
    "output.to_csv('submission.csv')"
   ]
  }
 ],
 "metadata": {
  "kernelspec": {
   "display_name": "Python 3",
   "language": "python",
   "name": "python3"
  },
  "language_info": {
   "codemirror_mode": {
    "name": "ipython",
    "version": 3
   },
   "file_extension": ".py",
   "mimetype": "text/x-python",
   "name": "python",
   "nbconvert_exporter": "python",
   "pygments_lexer": "ipython3",
   "version": "3.7.10"
  },
  "papermill": {
   "default_parameters": {},
   "duration": 40.742188,
   "end_time": "2022-12-31T01:35:39.004628",
   "environment_variables": {},
   "exception": null,
   "input_path": "__notebook__.ipynb",
   "output_path": "__notebook__.ipynb",
   "parameters": {},
   "start_time": "2022-12-31T01:34:58.262440",
   "version": "2.3.3"
  }
 },
 "nbformat": 4,
 "nbformat_minor": 5
}
