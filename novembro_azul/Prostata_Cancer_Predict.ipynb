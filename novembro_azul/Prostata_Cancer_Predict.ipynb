{
 "cells": [
  {
   "cell_type": "markdown",
   "id": "7ace4ab2",
   "metadata": {},
   "source": [
    "# Modelo Preditivo para Câncer de Próstata"
   ]
  },
  {
   "cell_type": "markdown",
   "id": "e3f33adf",
   "metadata": {},
   "source": [
    "## Tem como objetivos:\n",
    "\n",
    "    - Analisar e Explorar os dados:\n",
    "        - Verificar a proporção dos dados\n",
    "        - Verificar a distribuição dos dados\n",
    "        - Visualização de dados\n",
    "    \n",
    "    - Processamento de dados:\n",
    "        - Aplicar técnicas de ajustes aos dados (Scaling)\n",
    "        - Divisão de dados de treino e teste\n",
    " \n",
    "    - Construção e comparação dos modelos de classificação:\n",
    "        - Random Forest Classification\n",
    "        - Decision Tree Classification\n",
    "        - KNN Classification\n",
    "        - Logistic Regression Classification\n",
    "    "
   ]
  },
  {
   "cell_type": "code",
   "execution_count": 1,
   "id": "1396449b",
   "metadata": {},
   "outputs": [
    {
     "name": "stdout",
     "output_type": "stream",
     "text": [
      "Author: Reyso C Teixeira\n",
      "\n"
     ]
    }
   ],
   "source": [
    "%reload_ext watermark\n",
    "%watermark -a \"Reyso C Teixeira\" --iversions"
   ]
  },
  {
   "cell_type": "code",
   "execution_count": 2,
   "id": "79524215",
   "metadata": {},
   "outputs": [],
   "source": [
    "# Pacotes de manipulação de dados\n",
    "import pandas as pd\n",
    "import numpy as np\n",
    "\n",
    "# Pacotes para visualização de dados\n",
    "import matplotlib.pyplot as plt\n",
    "import seaborn as sns\n",
    "\n",
    "#Pacotes para modelos preditivos\n",
    "from sklearn.model_selection import train_test_split\n",
    "from sklearn.linear_model import LogisticRegression\n",
    "from sklearn.tree import DecisionTreeClassifier\n",
    "from sklearn.neighbors import KNeighborsClassifier\n",
    "from sklearn.ensemble import (RandomForestClassifier)\n",
    "from sklearn.metrics import accuracy_score\n",
    "from sklearn.metrics import confusion_matrix"
   ]
  },
  {
   "cell_type": "code",
   "execution_count": 3,
   "id": "c4785d56",
   "metadata": {
    "scrolled": true
   },
   "outputs": [
    {
     "data": {
      "text/html": [
       "<div>\n",
       "<style scoped>\n",
       "    .dataframe tbody tr th:only-of-type {\n",
       "        vertical-align: middle;\n",
       "    }\n",
       "\n",
       "    .dataframe tbody tr th {\n",
       "        vertical-align: top;\n",
       "    }\n",
       "\n",
       "    .dataframe thead th {\n",
       "        text-align: right;\n",
       "    }\n",
       "</style>\n",
       "<table border=\"1\" class=\"dataframe\">\n",
       "  <thead>\n",
       "    <tr style=\"text-align: right;\">\n",
       "      <th></th>\n",
       "      <th>id</th>\n",
       "      <th>diagnosis_result</th>\n",
       "      <th>radius</th>\n",
       "      <th>texture</th>\n",
       "      <th>perimeter</th>\n",
       "      <th>area</th>\n",
       "      <th>smoothness</th>\n",
       "      <th>compactness</th>\n",
       "      <th>symmetry</th>\n",
       "      <th>fractal_dimension</th>\n",
       "    </tr>\n",
       "  </thead>\n",
       "  <tbody>\n",
       "    <tr>\n",
       "      <th>0</th>\n",
       "      <td>1</td>\n",
       "      <td>M</td>\n",
       "      <td>23</td>\n",
       "      <td>12</td>\n",
       "      <td>151</td>\n",
       "      <td>954</td>\n",
       "      <td>0.143</td>\n",
       "      <td>0.278</td>\n",
       "      <td>0.242</td>\n",
       "      <td>0.079</td>\n",
       "    </tr>\n",
       "    <tr>\n",
       "      <th>1</th>\n",
       "      <td>2</td>\n",
       "      <td>B</td>\n",
       "      <td>9</td>\n",
       "      <td>13</td>\n",
       "      <td>133</td>\n",
       "      <td>1326</td>\n",
       "      <td>0.143</td>\n",
       "      <td>0.079</td>\n",
       "      <td>0.181</td>\n",
       "      <td>0.057</td>\n",
       "    </tr>\n",
       "    <tr>\n",
       "      <th>2</th>\n",
       "      <td>3</td>\n",
       "      <td>M</td>\n",
       "      <td>21</td>\n",
       "      <td>27</td>\n",
       "      <td>130</td>\n",
       "      <td>1203</td>\n",
       "      <td>0.125</td>\n",
       "      <td>0.160</td>\n",
       "      <td>0.207</td>\n",
       "      <td>0.060</td>\n",
       "    </tr>\n",
       "    <tr>\n",
       "      <th>3</th>\n",
       "      <td>4</td>\n",
       "      <td>M</td>\n",
       "      <td>14</td>\n",
       "      <td>16</td>\n",
       "      <td>78</td>\n",
       "      <td>386</td>\n",
       "      <td>0.070</td>\n",
       "      <td>0.284</td>\n",
       "      <td>0.260</td>\n",
       "      <td>0.097</td>\n",
       "    </tr>\n",
       "    <tr>\n",
       "      <th>4</th>\n",
       "      <td>5</td>\n",
       "      <td>M</td>\n",
       "      <td>9</td>\n",
       "      <td>19</td>\n",
       "      <td>135</td>\n",
       "      <td>1297</td>\n",
       "      <td>0.141</td>\n",
       "      <td>0.133</td>\n",
       "      <td>0.181</td>\n",
       "      <td>0.059</td>\n",
       "    </tr>\n",
       "    <tr>\n",
       "      <th>...</th>\n",
       "      <td>...</td>\n",
       "      <td>...</td>\n",
       "      <td>...</td>\n",
       "      <td>...</td>\n",
       "      <td>...</td>\n",
       "      <td>...</td>\n",
       "      <td>...</td>\n",
       "      <td>...</td>\n",
       "      <td>...</td>\n",
       "      <td>...</td>\n",
       "    </tr>\n",
       "    <tr>\n",
       "      <th>95</th>\n",
       "      <td>96</td>\n",
       "      <td>M</td>\n",
       "      <td>23</td>\n",
       "      <td>16</td>\n",
       "      <td>132</td>\n",
       "      <td>1264</td>\n",
       "      <td>0.091</td>\n",
       "      <td>0.131</td>\n",
       "      <td>0.210</td>\n",
       "      <td>0.056</td>\n",
       "    </tr>\n",
       "    <tr>\n",
       "      <th>96</th>\n",
       "      <td>97</td>\n",
       "      <td>B</td>\n",
       "      <td>22</td>\n",
       "      <td>14</td>\n",
       "      <td>78</td>\n",
       "      <td>451</td>\n",
       "      <td>0.105</td>\n",
       "      <td>0.071</td>\n",
       "      <td>0.190</td>\n",
       "      <td>0.066</td>\n",
       "    </tr>\n",
       "    <tr>\n",
       "      <th>97</th>\n",
       "      <td>98</td>\n",
       "      <td>B</td>\n",
       "      <td>19</td>\n",
       "      <td>27</td>\n",
       "      <td>62</td>\n",
       "      <td>295</td>\n",
       "      <td>0.102</td>\n",
       "      <td>0.053</td>\n",
       "      <td>0.135</td>\n",
       "      <td>0.069</td>\n",
       "    </tr>\n",
       "    <tr>\n",
       "      <th>98</th>\n",
       "      <td>99</td>\n",
       "      <td>B</td>\n",
       "      <td>21</td>\n",
       "      <td>24</td>\n",
       "      <td>74</td>\n",
       "      <td>413</td>\n",
       "      <td>0.090</td>\n",
       "      <td>0.075</td>\n",
       "      <td>0.162</td>\n",
       "      <td>0.066</td>\n",
       "    </tr>\n",
       "    <tr>\n",
       "      <th>99</th>\n",
       "      <td>100</td>\n",
       "      <td>M</td>\n",
       "      <td>16</td>\n",
       "      <td>27</td>\n",
       "      <td>94</td>\n",
       "      <td>643</td>\n",
       "      <td>0.098</td>\n",
       "      <td>0.114</td>\n",
       "      <td>0.188</td>\n",
       "      <td>0.064</td>\n",
       "    </tr>\n",
       "  </tbody>\n",
       "</table>\n",
       "<p>100 rows × 10 columns</p>\n",
       "</div>"
      ],
      "text/plain": [
       "     id diagnosis_result  radius  texture  perimeter  area  smoothness  \\\n",
       "0     1                M      23       12        151   954       0.143   \n",
       "1     2                B       9       13        133  1326       0.143   \n",
       "2     3                M      21       27        130  1203       0.125   \n",
       "3     4                M      14       16         78   386       0.070   \n",
       "4     5                M       9       19        135  1297       0.141   \n",
       "..  ...              ...     ...      ...        ...   ...         ...   \n",
       "95   96                M      23       16        132  1264       0.091   \n",
       "96   97                B      22       14         78   451       0.105   \n",
       "97   98                B      19       27         62   295       0.102   \n",
       "98   99                B      21       24         74   413       0.090   \n",
       "99  100                M      16       27         94   643       0.098   \n",
       "\n",
       "    compactness  symmetry  fractal_dimension  \n",
       "0         0.278     0.242              0.079  \n",
       "1         0.079     0.181              0.057  \n",
       "2         0.160     0.207              0.060  \n",
       "3         0.284     0.260              0.097  \n",
       "4         0.133     0.181              0.059  \n",
       "..          ...       ...                ...  \n",
       "95        0.131     0.210              0.056  \n",
       "96        0.071     0.190              0.066  \n",
       "97        0.053     0.135              0.069  \n",
       "98        0.075     0.162              0.066  \n",
       "99        0.114     0.188              0.064  \n",
       "\n",
       "[100 rows x 10 columns]"
      ]
     },
     "execution_count": 3,
     "metadata": {},
     "output_type": "execute_result"
    }
   ],
   "source": [
    "# exibindo o dataframe\n",
    "\n",
    "df = pd.read_csv('Prostate_Cancer.csv',sep = ','); df"
   ]
  },
  {
   "cell_type": "code",
   "execution_count": 4,
   "id": "8de8dbe6",
   "metadata": {},
   "outputs": [
    {
     "data": {
      "text/plain": [
       "['id',\n",
       " 'diagnosis_result',\n",
       " 'radius',\n",
       " 'texture',\n",
       " 'perimeter',\n",
       " 'area',\n",
       " 'smoothness',\n",
       " 'compactness',\n",
       " 'symmetry',\n",
       " 'fractal_dimension']"
      ]
     },
     "execution_count": 4,
     "metadata": {},
     "output_type": "execute_result"
    }
   ],
   "source": [
    "# Colunas\n",
    "df.columns.to_list()"
   ]
  },
  {
   "cell_type": "markdown",
   "id": "4f9d1ef3",
   "metadata": {},
   "source": [
    "## Algumas caracteríticas dos dados"
   ]
  },
  {
   "cell_type": "code",
   "execution_count": 5,
   "id": "eacc3b30",
   "metadata": {
    "scrolled": true
   },
   "outputs": [
    {
     "data": {
      "text/html": [
       "<div>\n",
       "<style scoped>\n",
       "    .dataframe tbody tr th:only-of-type {\n",
       "        vertical-align: middle;\n",
       "    }\n",
       "\n",
       "    .dataframe tbody tr th {\n",
       "        vertical-align: top;\n",
       "    }\n",
       "\n",
       "    .dataframe thead th {\n",
       "        text-align: right;\n",
       "    }\n",
       "</style>\n",
       "<table border=\"1\" class=\"dataframe\">\n",
       "  <thead>\n",
       "    <tr style=\"text-align: right;\">\n",
       "      <th></th>\n",
       "      <th>id</th>\n",
       "      <th>radius</th>\n",
       "      <th>texture</th>\n",
       "      <th>perimeter</th>\n",
       "      <th>area</th>\n",
       "      <th>smoothness</th>\n",
       "      <th>compactness</th>\n",
       "      <th>symmetry</th>\n",
       "      <th>fractal_dimension</th>\n",
       "    </tr>\n",
       "  </thead>\n",
       "  <tbody>\n",
       "    <tr>\n",
       "      <th>count</th>\n",
       "      <td>100.000000</td>\n",
       "      <td>100.000000</td>\n",
       "      <td>100.000000</td>\n",
       "      <td>100.000000</td>\n",
       "      <td>100.000000</td>\n",
       "      <td>100.000000</td>\n",
       "      <td>100.000000</td>\n",
       "      <td>100.000000</td>\n",
       "      <td>100.000000</td>\n",
       "    </tr>\n",
       "    <tr>\n",
       "      <th>mean</th>\n",
       "      <td>50.500000</td>\n",
       "      <td>16.850000</td>\n",
       "      <td>18.230000</td>\n",
       "      <td>96.780000</td>\n",
       "      <td>702.880000</td>\n",
       "      <td>0.102730</td>\n",
       "      <td>0.126700</td>\n",
       "      <td>0.193170</td>\n",
       "      <td>0.064690</td>\n",
       "    </tr>\n",
       "    <tr>\n",
       "      <th>std</th>\n",
       "      <td>29.011492</td>\n",
       "      <td>4.879094</td>\n",
       "      <td>5.192954</td>\n",
       "      <td>23.676089</td>\n",
       "      <td>319.710895</td>\n",
       "      <td>0.014642</td>\n",
       "      <td>0.061144</td>\n",
       "      <td>0.030785</td>\n",
       "      <td>0.008151</td>\n",
       "    </tr>\n",
       "    <tr>\n",
       "      <th>min</th>\n",
       "      <td>1.000000</td>\n",
       "      <td>9.000000</td>\n",
       "      <td>11.000000</td>\n",
       "      <td>52.000000</td>\n",
       "      <td>202.000000</td>\n",
       "      <td>0.070000</td>\n",
       "      <td>0.038000</td>\n",
       "      <td>0.135000</td>\n",
       "      <td>0.053000</td>\n",
       "    </tr>\n",
       "    <tr>\n",
       "      <th>25%</th>\n",
       "      <td>25.750000</td>\n",
       "      <td>12.000000</td>\n",
       "      <td>14.000000</td>\n",
       "      <td>82.500000</td>\n",
       "      <td>476.750000</td>\n",
       "      <td>0.093500</td>\n",
       "      <td>0.080500</td>\n",
       "      <td>0.172000</td>\n",
       "      <td>0.059000</td>\n",
       "    </tr>\n",
       "    <tr>\n",
       "      <th>50%</th>\n",
       "      <td>50.500000</td>\n",
       "      <td>17.000000</td>\n",
       "      <td>17.500000</td>\n",
       "      <td>94.000000</td>\n",
       "      <td>644.000000</td>\n",
       "      <td>0.102000</td>\n",
       "      <td>0.118500</td>\n",
       "      <td>0.190000</td>\n",
       "      <td>0.063000</td>\n",
       "    </tr>\n",
       "    <tr>\n",
       "      <th>75%</th>\n",
       "      <td>75.250000</td>\n",
       "      <td>21.000000</td>\n",
       "      <td>22.250000</td>\n",
       "      <td>114.250000</td>\n",
       "      <td>917.000000</td>\n",
       "      <td>0.112000</td>\n",
       "      <td>0.157000</td>\n",
       "      <td>0.209000</td>\n",
       "      <td>0.069000</td>\n",
       "    </tr>\n",
       "    <tr>\n",
       "      <th>max</th>\n",
       "      <td>100.000000</td>\n",
       "      <td>25.000000</td>\n",
       "      <td>27.000000</td>\n",
       "      <td>172.000000</td>\n",
       "      <td>1878.000000</td>\n",
       "      <td>0.143000</td>\n",
       "      <td>0.345000</td>\n",
       "      <td>0.304000</td>\n",
       "      <td>0.097000</td>\n",
       "    </tr>\n",
       "  </tbody>\n",
       "</table>\n",
       "</div>"
      ],
      "text/plain": [
       "               id      radius     texture   perimeter         area  \\\n",
       "count  100.000000  100.000000  100.000000  100.000000   100.000000   \n",
       "mean    50.500000   16.850000   18.230000   96.780000   702.880000   \n",
       "std     29.011492    4.879094    5.192954   23.676089   319.710895   \n",
       "min      1.000000    9.000000   11.000000   52.000000   202.000000   \n",
       "25%     25.750000   12.000000   14.000000   82.500000   476.750000   \n",
       "50%     50.500000   17.000000   17.500000   94.000000   644.000000   \n",
       "75%     75.250000   21.000000   22.250000  114.250000   917.000000   \n",
       "max    100.000000   25.000000   27.000000  172.000000  1878.000000   \n",
       "\n",
       "       smoothness  compactness    symmetry  fractal_dimension  \n",
       "count  100.000000   100.000000  100.000000         100.000000  \n",
       "mean     0.102730     0.126700    0.193170           0.064690  \n",
       "std      0.014642     0.061144    0.030785           0.008151  \n",
       "min      0.070000     0.038000    0.135000           0.053000  \n",
       "25%      0.093500     0.080500    0.172000           0.059000  \n",
       "50%      0.102000     0.118500    0.190000           0.063000  \n",
       "75%      0.112000     0.157000    0.209000           0.069000  \n",
       "max      0.143000     0.345000    0.304000           0.097000  "
      ]
     },
     "execution_count": 5,
     "metadata": {},
     "output_type": "execute_result"
    }
   ],
   "source": [
    "df.describe()"
   ]
  },
  {
   "cell_type": "markdown",
   "id": "f6c0f629",
   "metadata": {},
   "source": [
    "## Valores Nulos"
   ]
  },
  {
   "cell_type": "code",
   "execution_count": 6,
   "id": "2d407f14",
   "metadata": {},
   "outputs": [
    {
     "data": {
      "text/plain": [
       "id                   0\n",
       "diagnosis_result     0\n",
       "radius               0\n",
       "texture              0\n",
       "perimeter            0\n",
       "area                 0\n",
       "smoothness           0\n",
       "compactness          0\n",
       "symmetry             0\n",
       "fractal_dimension    0\n",
       "dtype: int64"
      ]
     },
     "execution_count": 6,
     "metadata": {},
     "output_type": "execute_result"
    }
   ],
   "source": [
    "df.isnull().sum()"
   ]
  },
  {
   "cell_type": "code",
   "execution_count": 7,
   "id": "146e0475",
   "metadata": {},
   "outputs": [],
   "source": [
    "#paleta de cores\n",
    "iris = '#5D3FD3'\n",
    "indigo = '#3F00FF'\n",
    "royal_blue = '#4169E1'\n",
    "light_steel_blue = '#B0C4DE'\n",
    "slate_gray = '#B0C4DE'\n",
    "light_slate_gray = '#778899'\n",
    "medium_green = '#00FA9A'\n",
    "jade = '#00A36C'"
   ]
  },
  {
   "cell_type": "markdown",
   "id": "70377fc7",
   "metadata": {},
   "source": [
    "## Vamos observar a proporção dos disgnósticos"
   ]
  },
  {
   "cell_type": "code",
   "execution_count": 8,
   "id": "f71a42ac",
   "metadata": {},
   "outputs": [],
   "source": [
    "df['diagnosis_result'] = df['diagnosis_result'].replace('M','Malígno')\n",
    "df['diagnosis_result'] = df['diagnosis_result'].replace('B','Benígno')"
   ]
  },
  {
   "cell_type": "code",
   "execution_count": 9,
   "id": "8533666d",
   "metadata": {
    "scrolled": false
   },
   "outputs": [
    {
     "data": {
      "image/png": "[encoded data removed]",
      "text/plain": [
       "<Figure size 720x576 with 1 Axes>"
      ]
     },
     "metadata": {},
     "output_type": "display_data"
    }
   ],
   "source": [
    "val = df['diagnosis_result'].value_counts()\n",
    "labels = val.index.tolist()\n",
    "\n",
    "# Grafico\n",
    "## estilo dos gráficos\n",
    "plt.style.use('fivethirtyeight')\n",
    "\n",
    "fig = plt.figure(figsize=(10,8))\n",
    "plt.pie(val,\n",
    "        autopct='%1.0f%%', #porcentagem\n",
    "        labels= labels, # Legendas\n",
    "        startangle=75, # angulo do gráfico\n",
    "        shadow=True, # sombras\n",
    "        #explode = (0,0.1),\n",
    "        colors=[light_slate_gray,royal_blue]) # cores\n",
    "\n",
    "# circulo central\n",
    "my_circle=plt.Circle( (0,0), 0.8, color='white')\n",
    "p=plt.gcf()\n",
    "p.gca().add_artist(my_circle)\n",
    "\n",
    "# Tamanho da fonte \n",
    "plt.rcParams['ytick.labelsize'] = 18\n",
    "plt.rcParams['font.size'] = 14\n",
    "\n",
    "#titulo e texto\n",
    "plt.title('O diagnóstico dos pacientes com Câncer de Prostrata.\\nsão Majoriariamente Malígnos.', fontdict={'size':16})\n",
    "plt.text(-1.5,-1.2,'Distribuição dos diagnósticos(%)',fontdict={'size':12})\n",
    "\n",
    "plt.show()"
   ]
  },
  {
   "cell_type": "markdown",
   "id": "d4aa3375",
   "metadata": {},
   "source": [
    "De acordo com os dados, temos predominantemente diagnósticos de cancêr malígnos."
   ]
  },
  {
   "cell_type": "markdown",
   "id": "d51748dc",
   "metadata": {},
   "source": [
    "Neste momento, precisaremos modificar a variável `diagnosis_result`"
   ]
  },
  {
   "cell_type": "code",
   "execution_count": 10,
   "id": "c3fe05b8",
   "metadata": {},
   "outputs": [
    {
     "name": "stdout",
     "output_type": "stream",
     "text": [
      "<class 'pandas.core.frame.DataFrame'>\n",
      "RangeIndex: 100 entries, 0 to 99\n",
      "Data columns (total 10 columns):\n",
      " #   Column             Non-Null Count  Dtype  \n",
      "---  ------             --------------  -----  \n",
      " 0   id                 100 non-null    int64  \n",
      " 1   diagnosis_result   100 non-null    int32  \n",
      " 2   radius             100 non-null    int64  \n",
      " 3   texture            100 non-null    int64  \n",
      " 4   perimeter          100 non-null    int64  \n",
      " 5   area               100 non-null    int64  \n",
      " 6   smoothness         100 non-null    float64\n",
      " 7   compactness        100 non-null    float64\n",
      " 8   symmetry           100 non-null    float64\n",
      " 9   fractal_dimension  100 non-null    float64\n",
      "dtypes: float64(4), int32(1), int64(5)\n",
      "memory usage: 7.5 KB\n"
     ]
    }
   ],
   "source": [
    "from sklearn.preprocessing import LabelEncoder\n",
    "enc=LabelEncoder()\n",
    "df['diagnosis_result']=enc.fit_transform(df['diagnosis_result'])\n",
    "df.info()"
   ]
  },
  {
   "cell_type": "markdown",
   "id": "0a99c449",
   "metadata": {},
   "source": [
    "Portanto,\n",
    " - Classe 1 indica diagnóstico MALÍGNO.\n",
    " - Classe 0 indica diagnóstico BENÍGNO."
   ]
  },
  {
   "cell_type": "code",
   "execution_count": 11,
   "id": "3b1e0a6d",
   "metadata": {},
   "outputs": [
    {
     "data": {
      "text/plain": [
       "1    62\n",
       "0    38\n",
       "Name: diagnosis_result, dtype: int64"
      ]
     },
     "execution_count": 11,
     "metadata": {},
     "output_type": "execute_result"
    }
   ],
   "source": [
    "val_encode = df['diagnosis_result'].value_counts(); val_encode"
   ]
  },
  {
   "cell_type": "code",
   "execution_count": 12,
   "id": "464b9abd",
   "metadata": {
    "scrolled": true
   },
   "outputs": [],
   "source": [
    "df = df.drop(columns=['id'], axis= 0)"
   ]
  },
  {
   "cell_type": "markdown",
   "id": "e44cb722",
   "metadata": {},
   "source": [
    "A coluna `ID` não será utilizada nesta análise."
   ]
  },
  {
   "cell_type": "markdown",
   "id": "8f430846",
   "metadata": {},
   "source": [
    "## Correlação entre as variáveis"
   ]
  },
  {
   "cell_type": "code",
   "execution_count": 13,
   "id": "081f470e",
   "metadata": {},
   "outputs": [
    {
     "data": {
      "text/html": [
       "<style type=\"text/css\">\n",
       "#T_bb961_row0_col0, #T_bb961_row1_col1, #T_bb961_row2_col2, #T_bb961_row3_col3, #T_bb961_row4_col4, #T_bb961_row5_col5, #T_bb961_row6_col6, #T_bb961_row7_col7, #T_bb961_row8_col8 {\n",
       "  background-color: #023858;\n",
       "  color: #f1f1f1;\n",
       "}\n",
       "#T_bb961_row0_col1, #T_bb961_row3_col8 {\n",
       "  background-color: #f6eff7;\n",
       "  color: #000000;\n",
       "}\n",
       "#T_bb961_row0_col2 {\n",
       "  background-color: #e3e0ee;\n",
       "  color: #000000;\n",
       "}\n",
       "#T_bb961_row0_col3 {\n",
       "  background-color: #2081b9;\n",
       "  color: #f1f1f1;\n",
       "}\n",
       "#T_bb961_row0_col4 {\n",
       "  background-color: #2987bc;\n",
       "  color: #f1f1f1;\n",
       "}\n",
       "#T_bb961_row0_col5 {\n",
       "  background-color: #c4cbe3;\n",
       "  color: #000000;\n",
       "}\n",
       "#T_bb961_row0_col6 {\n",
       "  background-color: #4697c4;\n",
       "  color: #f1f1f1;\n",
       "}\n",
       "#T_bb961_row0_col7 {\n",
       "  background-color: #cccfe5;\n",
       "  color: #000000;\n",
       "}\n",
       "#T_bb961_row0_col8 {\n",
       "  background-color: #d7d6e9;\n",
       "  color: #000000;\n",
       "}\n",
       "#T_bb961_row1_col0, #T_bb961_row1_col3, #T_bb961_row1_col5, #T_bb961_row1_col6, #T_bb961_row1_col7, #T_bb961_row3_col2, #T_bb961_row4_col1, #T_bb961_row4_col2, #T_bb961_row4_col8, #T_bb961_row8_col4 {\n",
       "  background-color: #fff7fb;\n",
       "  color: #000000;\n",
       "}\n",
       "#T_bb961_row1_col2, #T_bb961_row1_col8, #T_bb961_row5_col2 {\n",
       "  background-color: #dddbec;\n",
       "  color: #000000;\n",
       "}\n",
       "#T_bb961_row1_col4 {\n",
       "  background-color: #fdf5fa;\n",
       "  color: #000000;\n",
       "}\n",
       "#T_bb961_row2_col0 {\n",
       "  background-color: #d9d8ea;\n",
       "  color: #000000;\n",
       "}\n",
       "#T_bb961_row2_col1 {\n",
       "  background-color: #c6cce3;\n",
       "  color: #000000;\n",
       "}\n",
       "#T_bb961_row2_col3, #T_bb961_row5_col1 {\n",
       "  background-color: #f0eaf4;\n",
       "  color: #000000;\n",
       "}\n",
       "#T_bb961_row2_col4 {\n",
       "  background-color: #ece7f2;\n",
       "  color: #000000;\n",
       "}\n",
       "#T_bb961_row2_col5 {\n",
       "  background-color: #dad9ea;\n",
       "  color: #000000;\n",
       "}\n",
       "#T_bb961_row2_col6 {\n",
       "  background-color: #dedcec;\n",
       "  color: #000000;\n",
       "}\n",
       "#T_bb961_row2_col7 {\n",
       "  background-color: #eee9f3;\n",
       "  color: #000000;\n",
       "}\n",
       "#T_bb961_row2_col8 {\n",
       "  background-color: #b7c5df;\n",
       "  color: #000000;\n",
       "}\n",
       "#T_bb961_row3_col0 {\n",
       "  background-color: #2685bb;\n",
       "  color: #f1f1f1;\n",
       "}\n",
       "#T_bb961_row3_col1 {\n",
       "  background-color: #fef6fa;\n",
       "  color: #000000;\n",
       "}\n",
       "#T_bb961_row3_col4, #T_bb961_row4_col3 {\n",
       "  background-color: #023c5f;\n",
       "  color: #f1f1f1;\n",
       "}\n",
       "#T_bb961_row3_col5 {\n",
       "  background-color: #adc1dd;\n",
       "  color: #000000;\n",
       "}\n",
       "#T_bb961_row3_col6 {\n",
       "  background-color: #4094c3;\n",
       "  color: #f1f1f1;\n",
       "}\n",
       "#T_bb961_row3_col7 {\n",
       "  background-color: #d6d6e9;\n",
       "  color: #000000;\n",
       "}\n",
       "#T_bb961_row4_col0 {\n",
       "  background-color: #358fc0;\n",
       "  color: #f1f1f1;\n",
       "}\n",
       "#T_bb961_row4_col5 {\n",
       "  background-color: #c0c9e2;\n",
       "  color: #000000;\n",
       "}\n",
       "#T_bb961_row4_col6 {\n",
       "  background-color: #6ba5cd;\n",
       "  color: #f1f1f1;\n",
       "}\n",
       "#T_bb961_row4_col7 {\n",
       "  background-color: #e8e4f0;\n",
       "  color: #000000;\n",
       "}\n",
       "#T_bb961_row5_col0 {\n",
       "  background-color: #b9c6e0;\n",
       "  color: #000000;\n",
       "}\n",
       "#T_bb961_row5_col3 {\n",
       "  background-color: #99b8d8;\n",
       "  color: #000000;\n",
       "}\n",
       "#T_bb961_row5_col4 {\n",
       "  background-color: #a5bddb;\n",
       "  color: #000000;\n",
       "}\n",
       "#T_bb961_row5_col6 {\n",
       "  background-color: #5a9ec9;\n",
       "  color: #f1f1f1;\n",
       "}\n",
       "#T_bb961_row5_col7 {\n",
       "  background-color: #89b1d4;\n",
       "  color: #000000;\n",
       "}\n",
       "#T_bb961_row5_col8 {\n",
       "  background-color: #71a8ce;\n",
       "  color: #f1f1f1;\n",
       "}\n",
       "#T_bb961_row6_col0, #T_bb961_row8_col7 {\n",
       "  background-color: #4a98c5;\n",
       "  color: #f1f1f1;\n",
       "}\n",
       "#T_bb961_row6_col1 {\n",
       "  background-color: #f8f1f8;\n",
       "  color: #000000;\n",
       "}\n",
       "#T_bb961_row6_col2 {\n",
       "  background-color: #ebe6f2;\n",
       "  color: #000000;\n",
       "}\n",
       "#T_bb961_row6_col3 {\n",
       "  background-color: #3991c1;\n",
       "  color: #f1f1f1;\n",
       "}\n",
       "#T_bb961_row6_col4 {\n",
       "  background-color: #5c9fc9;\n",
       "  color: #f1f1f1;\n",
       "}\n",
       "#T_bb961_row6_col5 {\n",
       "  background-color: #67a4cc;\n",
       "  color: #f1f1f1;\n",
       "}\n",
       "#T_bb961_row6_col7 {\n",
       "  background-color: #1b7eb7;\n",
       "  color: #f1f1f1;\n",
       "}\n",
       "#T_bb961_row6_col8 {\n",
       "  background-color: #0f76b3;\n",
       "  color: #f1f1f1;\n",
       "}\n",
       "#T_bb961_row7_col0, #T_bb961_row7_col3 {\n",
       "  background-color: #afc1dd;\n",
       "  color: #000000;\n",
       "}\n",
       "#T_bb961_row7_col1 {\n",
       "  background-color: #e2dfee;\n",
       "  color: #000000;\n",
       "}\n",
       "#T_bb961_row7_col2 {\n",
       "  background-color: #e1dfed;\n",
       "  color: #000000;\n",
       "}\n",
       "#T_bb961_row7_col4 {\n",
       "  background-color: #bfc9e1;\n",
       "  color: #000000;\n",
       "}\n",
       "#T_bb961_row7_col5 {\n",
       "  background-color: #78abd0;\n",
       "  color: #f1f1f1;\n",
       "}\n",
       "#T_bb961_row7_col6 {\n",
       "  background-color: #0c74b2;\n",
       "  color: #f1f1f1;\n",
       "}\n",
       "#T_bb961_row7_col8 {\n",
       "  background-color: #2786bb;\n",
       "  color: #f1f1f1;\n",
       "}\n",
       "#T_bb961_row8_col0 {\n",
       "  background-color: #e5e1ef;\n",
       "  color: #000000;\n",
       "}\n",
       "#T_bb961_row8_col1 {\n",
       "  background-color: #e0deed;\n",
       "  color: #000000;\n",
       "}\n",
       "#T_bb961_row8_col2 {\n",
       "  background-color: #d5d5e8;\n",
       "  color: #000000;\n",
       "}\n",
       "#T_bb961_row8_col3 {\n",
       "  background-color: #faf3f9;\n",
       "  color: #000000;\n",
       "}\n",
       "#T_bb961_row8_col5 {\n",
       "  background-color: #8cb3d5;\n",
       "  color: #000000;\n",
       "}\n",
       "#T_bb961_row8_col6 {\n",
       "  background-color: #167bb6;\n",
       "  color: #f1f1f1;\n",
       "}\n",
       "</style>\n",
       "<table id=\"T_bb961\">\n",
       "  <thead>\n",
       "    <tr>\n",
       "      <th class=\"blank level0\" >&nbsp;</th>\n",
       "      <th id=\"T_bb961_level0_col0\" class=\"col_heading level0 col0\" >diagnosis_result</th>\n",
       "      <th id=\"T_bb961_level0_col1\" class=\"col_heading level0 col1\" >radius</th>\n",
       "      <th id=\"T_bb961_level0_col2\" class=\"col_heading level0 col2\" >texture</th>\n",
       "      <th id=\"T_bb961_level0_col3\" class=\"col_heading level0 col3\" >perimeter</th>\n",
       "      <th id=\"T_bb961_level0_col4\" class=\"col_heading level0 col4\" >area</th>\n",
       "      <th id=\"T_bb961_level0_col5\" class=\"col_heading level0 col5\" >smoothness</th>\n",
       "      <th id=\"T_bb961_level0_col6\" class=\"col_heading level0 col6\" >compactness</th>\n",
       "      <th id=\"T_bb961_level0_col7\" class=\"col_heading level0 col7\" >symmetry</th>\n",
       "      <th id=\"T_bb961_level0_col8\" class=\"col_heading level0 col8\" >fractal_dimension</th>\n",
       "    </tr>\n",
       "  </thead>\n",
       "  <tbody>\n",
       "    <tr>\n",
       "      <th id=\"T_bb961_level0_row0\" class=\"row_heading level0 row0\" >diagnosis_result</th>\n",
       "      <td id=\"T_bb961_row0_col0\" class=\"data row0 col0\" >1.000000</td>\n",
       "      <td id=\"T_bb961_row0_col1\" class=\"data row0 col1\" >-0.176967</td>\n",
       "      <td id=\"T_bb961_row0_col2\" class=\"data row0 col2\" >0.070735</td>\n",
       "      <td id=\"T_bb961_row0_col3\" class=\"data row0 col3\" >0.607498</td>\n",
       "      <td id=\"T_bb961_row0_col4\" class=\"data row0 col4\" >0.562444</td>\n",
       "      <td id=\"T_bb961_row0_col5\" class=\"data row0 col5\" >0.197616</td>\n",
       "      <td id=\"T_bb961_row0_col6\" class=\"data row0 col6\" >0.512234</td>\n",
       "      <td id=\"T_bb961_row0_col7\" class=\"data row0 col7\" >0.233028</td>\n",
       "      <td id=\"T_bb961_row0_col8\" class=\"data row0 col8\" >0.008180</td>\n",
       "    </tr>\n",
       "    <tr>\n",
       "      <th id=\"T_bb961_level0_row1\" class=\"row_heading level0 row1\" >radius</th>\n",
       "      <td id=\"T_bb961_row1_col0\" class=\"data row1 col0\" >-0.176967</td>\n",
       "      <td id=\"T_bb961_row1_col1\" class=\"data row1 col1\" >1.000000</td>\n",
       "      <td id=\"T_bb961_row1_col2\" class=\"data row1 col2\" >0.100245</td>\n",
       "      <td id=\"T_bb961_row1_col3\" class=\"data row1 col3\" >-0.238216</td>\n",
       "      <td id=\"T_bb961_row1_col4\" class=\"data row1 col4\" >-0.250934</td>\n",
       "      <td id=\"T_bb961_row1_col5\" class=\"data row1 col5\" >-0.127121</td>\n",
       "      <td id=\"T_bb961_row1_col6\" class=\"data row1 col6\" >-0.191490</td>\n",
       "      <td id=\"T_bb961_row1_col7\" class=\"data row1 col7\" >-0.039707</td>\n",
       "      <td id=\"T_bb961_row1_col8\" class=\"data row1 col8\" >-0.029120</td>\n",
       "    </tr>\n",
       "    <tr>\n",
       "      <th id=\"T_bb961_level0_row2\" class=\"row_heading level0 row2\" >texture</th>\n",
       "      <td id=\"T_bb961_row2_col0\" class=\"data row2 col0\" >0.070735</td>\n",
       "      <td id=\"T_bb961_row2_col1\" class=\"data row2 col1\" >0.100245</td>\n",
       "      <td id=\"T_bb961_row2_col2\" class=\"data row2 col2\" >1.000000</td>\n",
       "      <td id=\"T_bb961_row2_col3\" class=\"data row2 col3\" >-0.113453</td>\n",
       "      <td id=\"T_bb961_row2_col4\" class=\"data row2 col4\" >-0.113725</td>\n",
       "      <td id=\"T_bb961_row2_col5\" class=\"data row2 col5\" >0.102321</td>\n",
       "      <td id=\"T_bb961_row2_col6\" class=\"data row2 col6\" >0.032446</td>\n",
       "      <td id=\"T_bb961_row2_col7\" class=\"data row2 col7\" >0.077912</td>\n",
       "      <td id=\"T_bb961_row2_col8\" class=\"data row2 col8\" >0.139157</td>\n",
       "    </tr>\n",
       "    <tr>\n",
       "      <th id=\"T_bb961_level0_row3\" class=\"row_heading level0 row3\" >perimeter</th>\n",
       "      <td id=\"T_bb961_row3_col0\" class=\"data row3 col0\" >0.607498</td>\n",
       "      <td id=\"T_bb961_row3_col1\" class=\"data row3 col1\" >-0.238216</td>\n",
       "      <td id=\"T_bb961_row3_col2\" class=\"data row3 col2\" >-0.113453</td>\n",
       "      <td id=\"T_bb961_row3_col3\" class=\"data row3 col3\" >1.000000</td>\n",
       "      <td id=\"T_bb961_row3_col4\" class=\"data row3 col4\" >0.976648</td>\n",
       "      <td id=\"T_bb961_row3_col5\" class=\"data row3 col5\" >0.269442</td>\n",
       "      <td id=\"T_bb961_row3_col6\" class=\"data row3 col6\" >0.527542</td>\n",
       "      <td id=\"T_bb961_row3_col7\" class=\"data row3 col7\" >0.195539</td>\n",
       "      <td id=\"T_bb961_row3_col8\" class=\"data row3 col8\" >-0.195434</td>\n",
       "    </tr>\n",
       "    <tr>\n",
       "      <th id=\"T_bb961_level0_row4\" class=\"row_heading level0 row4\" >area</th>\n",
       "      <td id=\"T_bb961_row4_col0\" class=\"data row4 col0\" >0.562444</td>\n",
       "      <td id=\"T_bb961_row4_col1\" class=\"data row4 col1\" >-0.250934</td>\n",
       "      <td id=\"T_bb961_row4_col2\" class=\"data row4 col2\" >-0.113725</td>\n",
       "      <td id=\"T_bb961_row4_col3\" class=\"data row4 col3\" >0.976648</td>\n",
       "      <td id=\"T_bb961_row4_col4\" class=\"data row4 col4\" >1.000000</td>\n",
       "      <td id=\"T_bb961_row4_col5\" class=\"data row4 col5\" >0.208438</td>\n",
       "      <td id=\"T_bb961_row4_col6\" class=\"data row4 col6\" >0.424950</td>\n",
       "      <td id=\"T_bb961_row4_col7\" class=\"data row4 col7\" >0.110435</td>\n",
       "      <td id=\"T_bb961_row4_col8\" class=\"data row4 col8\" >-0.274344</td>\n",
       "    </tr>\n",
       "    <tr>\n",
       "      <th id=\"T_bb961_level0_row5\" class=\"row_heading level0 row5\" >smoothness</th>\n",
       "      <td id=\"T_bb961_row5_col0\" class=\"data row5 col0\" >0.197616</td>\n",
       "      <td id=\"T_bb961_row5_col1\" class=\"data row5 col1\" >-0.127121</td>\n",
       "      <td id=\"T_bb961_row5_col2\" class=\"data row5 col2\" >0.102321</td>\n",
       "      <td id=\"T_bb961_row5_col3\" class=\"data row5 col3\" >0.269442</td>\n",
       "      <td id=\"T_bb961_row5_col4\" class=\"data row5 col4\" >0.208438</td>\n",
       "      <td id=\"T_bb961_row5_col5\" class=\"data row5 col5\" >1.000000</td>\n",
       "      <td id=\"T_bb961_row5_col6\" class=\"data row5 col6\" >0.465723</td>\n",
       "      <td id=\"T_bb961_row5_col7\" class=\"data row5 col7\" >0.424203</td>\n",
       "      <td id=\"T_bb961_row5_col8\" class=\"data row5 col8\" >0.369580</td>\n",
       "    </tr>\n",
       "    <tr>\n",
       "      <th id=\"T_bb961_level0_row6\" class=\"row_heading level0 row6\" >compactness</th>\n",
       "      <td id=\"T_bb961_row6_col0\" class=\"data row6 col0\" >0.512234</td>\n",
       "      <td id=\"T_bb961_row6_col1\" class=\"data row6 col1\" >-0.191490</td>\n",
       "      <td id=\"T_bb961_row6_col2\" class=\"data row6 col2\" >0.032446</td>\n",
       "      <td id=\"T_bb961_row6_col3\" class=\"data row6 col3\" >0.527542</td>\n",
       "      <td id=\"T_bb961_row6_col4\" class=\"data row6 col4\" >0.424950</td>\n",
       "      <td id=\"T_bb961_row6_col5\" class=\"data row6 col5\" >0.465723</td>\n",
       "      <td id=\"T_bb961_row6_col6\" class=\"data row6 col6\" >1.000000</td>\n",
       "      <td id=\"T_bb961_row6_col7\" class=\"data row6 col7\" >0.681123</td>\n",
       "      <td id=\"T_bb961_row6_col8\" class=\"data row6 col8\" >0.647953</td>\n",
       "    </tr>\n",
       "    <tr>\n",
       "      <th id=\"T_bb961_level0_row7\" class=\"row_heading level0 row7\" >symmetry</th>\n",
       "      <td id=\"T_bb961_row7_col0\" class=\"data row7 col0\" >0.233028</td>\n",
       "      <td id=\"T_bb961_row7_col1\" class=\"data row7 col1\" >-0.039707</td>\n",
       "      <td id=\"T_bb961_row7_col2\" class=\"data row7 col2\" >0.077912</td>\n",
       "      <td id=\"T_bb961_row7_col3\" class=\"data row7 col3\" >0.195539</td>\n",
       "      <td id=\"T_bb961_row7_col4\" class=\"data row7 col4\" >0.110435</td>\n",
       "      <td id=\"T_bb961_row7_col5\" class=\"data row7 col5\" >0.424203</td>\n",
       "      <td id=\"T_bb961_row7_col6\" class=\"data row7 col6\" >0.681123</td>\n",
       "      <td id=\"T_bb961_row7_col7\" class=\"data row7 col7\" >1.000000</td>\n",
       "      <td id=\"T_bb961_row7_col8\" class=\"data row7 col8\" >0.568608</td>\n",
       "    </tr>\n",
       "    <tr>\n",
       "      <th id=\"T_bb961_level0_row8\" class=\"row_heading level0 row8\" >fractal_dimension</th>\n",
       "      <td id=\"T_bb961_row8_col0\" class=\"data row8 col0\" >0.008180</td>\n",
       "      <td id=\"T_bb961_row8_col1\" class=\"data row8 col1\" >-0.029120</td>\n",
       "      <td id=\"T_bb961_row8_col2\" class=\"data row8 col2\" >0.139157</td>\n",
       "      <td id=\"T_bb961_row8_col3\" class=\"data row8 col3\" >-0.195434</td>\n",
       "      <td id=\"T_bb961_row8_col4\" class=\"data row8 col4\" >-0.274344</td>\n",
       "      <td id=\"T_bb961_row8_col5\" class=\"data row8 col5\" >0.369580</td>\n",
       "      <td id=\"T_bb961_row8_col6\" class=\"data row8 col6\" >0.647953</td>\n",
       "      <td id=\"T_bb961_row8_col7\" class=\"data row8 col7\" >0.568608</td>\n",
       "      <td id=\"T_bb961_row8_col8\" class=\"data row8 col8\" >1.000000</td>\n",
       "    </tr>\n",
       "  </tbody>\n",
       "</table>\n"
      ],
      "text/plain": [
       "<pandas.io.formats.style.Styler at 0x15816f63f70>"
      ]
     },
     "execution_count": 13,
     "metadata": {},
     "output_type": "execute_result"
    }
   ],
   "source": [
    "# Data correlation matrix\n",
    "corr_metrics = df.corr()\n",
    "corr_metrics.style.background_gradient()"
   ]
  },
  {
   "cell_type": "markdown",
   "id": "f5a264c2",
   "metadata": {},
   "source": [
    "###"
   ]
  },
  {
   "cell_type": "markdown",
   "id": "8bd9e502",
   "metadata": {},
   "source": [
    "A variável `Fractal dimension` e `texture` apresentam baixa correlação com o nosso alvo, por tanto nos iremos eliminar. Além disso, a fim de eliminar a redundância, iremos retirar do dataset a `perimeter`, pois há uma correlação muito forte com `area`"
   ]
  },
  {
   "cell_type": "code",
   "execution_count": 14,
   "id": "f06531eb",
   "metadata": {},
   "outputs": [
    {
     "data": {
      "text/html": [
       "<div>\n",
       "<style scoped>\n",
       "    .dataframe tbody tr th:only-of-type {\n",
       "        vertical-align: middle;\n",
       "    }\n",
       "\n",
       "    .dataframe tbody tr th {\n",
       "        vertical-align: top;\n",
       "    }\n",
       "\n",
       "    .dataframe thead th {\n",
       "        text-align: right;\n",
       "    }\n",
       "</style>\n",
       "<table border=\"1\" class=\"dataframe\">\n",
       "  <thead>\n",
       "    <tr style=\"text-align: right;\">\n",
       "      <th></th>\n",
       "      <th>diagnosis_result</th>\n",
       "      <th>radius</th>\n",
       "      <th>area</th>\n",
       "      <th>smoothness</th>\n",
       "      <th>compactness</th>\n",
       "      <th>symmetry</th>\n",
       "    </tr>\n",
       "  </thead>\n",
       "  <tbody>\n",
       "    <tr>\n",
       "      <th>0</th>\n",
       "      <td>1</td>\n",
       "      <td>23</td>\n",
       "      <td>954</td>\n",
       "      <td>0.143</td>\n",
       "      <td>0.278</td>\n",
       "      <td>0.242</td>\n",
       "    </tr>\n",
       "    <tr>\n",
       "      <th>1</th>\n",
       "      <td>0</td>\n",
       "      <td>9</td>\n",
       "      <td>1326</td>\n",
       "      <td>0.143</td>\n",
       "      <td>0.079</td>\n",
       "      <td>0.181</td>\n",
       "    </tr>\n",
       "    <tr>\n",
       "      <th>2</th>\n",
       "      <td>1</td>\n",
       "      <td>21</td>\n",
       "      <td>1203</td>\n",
       "      <td>0.125</td>\n",
       "      <td>0.160</td>\n",
       "      <td>0.207</td>\n",
       "    </tr>\n",
       "    <tr>\n",
       "      <th>3</th>\n",
       "      <td>1</td>\n",
       "      <td>14</td>\n",
       "      <td>386</td>\n",
       "      <td>0.070</td>\n",
       "      <td>0.284</td>\n",
       "      <td>0.260</td>\n",
       "    </tr>\n",
       "    <tr>\n",
       "      <th>4</th>\n",
       "      <td>1</td>\n",
       "      <td>9</td>\n",
       "      <td>1297</td>\n",
       "      <td>0.141</td>\n",
       "      <td>0.133</td>\n",
       "      <td>0.181</td>\n",
       "    </tr>\n",
       "    <tr>\n",
       "      <th>...</th>\n",
       "      <td>...</td>\n",
       "      <td>...</td>\n",
       "      <td>...</td>\n",
       "      <td>...</td>\n",
       "      <td>...</td>\n",
       "      <td>...</td>\n",
       "    </tr>\n",
       "    <tr>\n",
       "      <th>95</th>\n",
       "      <td>1</td>\n",
       "      <td>23</td>\n",
       "      <td>1264</td>\n",
       "      <td>0.091</td>\n",
       "      <td>0.131</td>\n",
       "      <td>0.210</td>\n",
       "    </tr>\n",
       "    <tr>\n",
       "      <th>96</th>\n",
       "      <td>0</td>\n",
       "      <td>22</td>\n",
       "      <td>451</td>\n",
       "      <td>0.105</td>\n",
       "      <td>0.071</td>\n",
       "      <td>0.190</td>\n",
       "    </tr>\n",
       "    <tr>\n",
       "      <th>97</th>\n",
       "      <td>0</td>\n",
       "      <td>19</td>\n",
       "      <td>295</td>\n",
       "      <td>0.102</td>\n",
       "      <td>0.053</td>\n",
       "      <td>0.135</td>\n",
       "    </tr>\n",
       "    <tr>\n",
       "      <th>98</th>\n",
       "      <td>0</td>\n",
       "      <td>21</td>\n",
       "      <td>413</td>\n",
       "      <td>0.090</td>\n",
       "      <td>0.075</td>\n",
       "      <td>0.162</td>\n",
       "    </tr>\n",
       "    <tr>\n",
       "      <th>99</th>\n",
       "      <td>1</td>\n",
       "      <td>16</td>\n",
       "      <td>643</td>\n",
       "      <td>0.098</td>\n",
       "      <td>0.114</td>\n",
       "      <td>0.188</td>\n",
       "    </tr>\n",
       "  </tbody>\n",
       "</table>\n",
       "<p>100 rows × 6 columns</p>\n",
       "</div>"
      ],
      "text/plain": [
       "    diagnosis_result  radius  area  smoothness  compactness  symmetry\n",
       "0                  1      23   954       0.143        0.278     0.242\n",
       "1                  0       9  1326       0.143        0.079     0.181\n",
       "2                  1      21  1203       0.125        0.160     0.207\n",
       "3                  1      14   386       0.070        0.284     0.260\n",
       "4                  1       9  1297       0.141        0.133     0.181\n",
       "..               ...     ...   ...         ...          ...       ...\n",
       "95                 1      23  1264       0.091        0.131     0.210\n",
       "96                 0      22   451       0.105        0.071     0.190\n",
       "97                 0      19   295       0.102        0.053     0.135\n",
       "98                 0      21   413       0.090        0.075     0.162\n",
       "99                 1      16   643       0.098        0.114     0.188\n",
       "\n",
       "[100 rows x 6 columns]"
      ]
     },
     "execution_count": 14,
     "metadata": {},
     "output_type": "execute_result"
    }
   ],
   "source": [
    "df = df.drop(['fractal_dimension', 'texture', 'perimeter'], axis=1); df\n"
   ]
  },
  {
   "cell_type": "markdown",
   "id": "1380a438",
   "metadata": {},
   "source": [
    "## Distribuição das outras variáveis"
   ]
  },
  {
   "cell_type": "code",
   "execution_count": 15,
   "id": "056ffc4b",
   "metadata": {
    "scrolled": false
   },
   "outputs": [
    {
     "data": {
      "image/png": "[encoded data removed]",
      "text/plain": [
       "<Figure size 720x720 with 6 Axes>"
      ]
     },
     "metadata": {},
     "output_type": "display_data"
    }
   ],
   "source": [
    "sns.set(font_scale = 1.3, rc = {'figure.figsize':(10,10)})\n",
    "ax = df.hist(bins = 20 , color = (royal_blue) )"
   ]
  },
  {
   "cell_type": "markdown",
   "id": "0087f33f",
   "metadata": {},
   "source": [
    "Podemos observar que, nenhuma variável destes dados obdecem uma distribuição normal."
   ]
  },
  {
   "cell_type": "markdown",
   "id": "b49cd9be",
   "metadata": {},
   "source": [
    "## Rescalling dos dados"
   ]
  },
  {
   "cell_type": "code",
   "execution_count": 16,
   "id": "c9333b54",
   "metadata": {},
   "outputs": [],
   "source": [
    "# Dividindo em subset de entreda e saída\n",
    "array = df.values\n",
    "\n",
    "x = array[:,1:6]\n",
    "Y = array[:,0]"
   ]
  },
  {
   "cell_type": "code",
   "execution_count": 17,
   "id": "ac34e113",
   "metadata": {},
   "outputs": [],
   "source": [
    "# Alterando a escala dos dados para 0 e 1\n",
    "from sklearn.preprocessing import MinMaxScaler\n",
    "\n",
    "scaler = MinMaxScaler(feature_range=(0,1))\n",
    "X = scaler.fit_transform(x)"
   ]
  },
  {
   "cell_type": "code",
   "execution_count": 18,
   "id": "3cf631ed",
   "metadata": {
    "scrolled": true
   },
   "outputs": [
    {
     "data": {
      "text/plain": [
       "array([[0.875     , 0.44868735, 1.        , 0.78175896, 0.63313609],\n",
       "       [0.        , 0.67064439, 1.        , 0.13355049, 0.27218935],\n",
       "       [0.75      , 0.59725537, 0.75342466, 0.39739414, 0.4260355 ],\n",
       "       [0.3125    , 0.1097852 , 0.        , 0.80130293, 0.73964497],\n",
       "       [0.        , 0.65334129, 0.97260274, 0.30944625, 0.27218935],\n",
       "       [1.        , 0.16408115, 0.79452055, 0.42996743, 0.43786982],\n",
       "       [0.4375    , 0.5       , 0.34246575, 0.23127036, 0.26035503],\n",
       "       [0.375     , 0.22434368, 0.67123288, 0.41368078, 0.50295858],\n",
       "       [0.625     , 0.18973747, 0.78082192, 0.50488599, 0.59171598],\n",
       "       [1.        , 0.16348449, 0.67123288, 0.65798046, 0.40236686],\n",
       "       [0.9375    , 0.35560859, 0.16438356, 0.09446254, 0.10650888],\n",
       "       [0.5       , 0.34546539, 0.36986301, 0.29641694, 0.28994083],\n",
       "       [0.3125    , 0.54952267, 0.36986301, 0.67752443, 0.62130178],\n",
       "       [0.1875    , 0.34665871, 0.19178082, 0.2019544 , 0.29585799],\n",
       "       [0.1875    , 0.22434368, 0.5890411 , 0.62214984, 0.4260355 ],\n",
       "       [0.8125    , 0.27267303, 0.60273973, 0.39739414, 0.56213018],\n",
       "       [0.0625    , 0.28818616, 0.39726027, 0.11074919, 0.14201183],\n",
       "       [0.375     , 0.35620525, 0.64383562, 0.53420195, 0.47928994],\n",
       "       [0.6875    , 0.63126492, 0.38356164, 0.21172638, 0.13609467],\n",
       "       [0.5       , 0.21718377, 0.38356164, 0.14006515, 0.31952663],\n",
       "       [0.4375    , 0.18973747, 0.52054795, 0.28990228, 0.36686391],\n",
       "       [0.5       , 0.04295943, 0.43835616, 0.08794788, 0.27810651],\n",
       "       [0.6875    , 0.29952267, 0.50684932, 0.5732899 , 0.69230769],\n",
       "       [0.625     , 0.71718377, 0.32876712, 0.20846906, 0.24852071],\n",
       "       [0.        , 0.41945107, 0.57534247, 0.35179153, 0.38461538],\n",
       "       [0.625     , 0.42422434, 0.67123288, 0.61889251, 1.        ],\n",
       "       [0.0625    , 0.26431981, 0.47945205, 0.48534202, 0.53254438],\n",
       "       [0.4375    , 0.53221957, 0.32876712, 0.2247557 , 0.20710059],\n",
       "       [0.375     , 0.31622912, 0.52054795, 0.42996743, 0.34319527],\n",
       "       [0.125     , 0.44928401, 0.38356164, 0.25407166, 0.23076923],\n",
       "       [0.125     , 0.52863962, 0.49315068, 0.49185668, 0.49112426],\n",
       "       [0.875     , 0.14260143, 0.56164384, 0.3713355 , 0.56213018],\n",
       "       [0.6875    , 0.41587112, 0.68493151, 0.36482085, 0.53254438],\n",
       "       [0.125     , 0.57279236, 0.32876712, 0.43648208, 0.29585799],\n",
       "       [0.4375    , 0.36097852, 0.46575342, 0.38436482, 0.38461538],\n",
       "       [0.0625    , 0.39856802, 0.35616438, 0.31270358, 0.32544379],\n",
       "       [0.5625    , 0.2571599 , 0.38356164, 0.23452769, 0.31952663],\n",
       "       [0.75      , 0.19212411, 0.2739726 , 0.        , 0.07100592],\n",
       "       [0.125     , 0.29653938, 0.32876712, 0.04234528, 0.13017751],\n",
       "       [0.0625    , 0.21300716, 0.43835616, 0.28664495, 0.21893491],\n",
       "       [0.9375    , 0.21539379, 0.16438356, 0.07166124, 0.25443787],\n",
       "       [0.625     , 0.10083532, 0.7260274 , 0.27361564, 0.32544379],\n",
       "       [0.125     , 0.53818616, 0.28767123, 0.58957655, 0.56804734],\n",
       "       [0.375     , 0.20465394, 0.46575342, 0.34527687, 0.36686391],\n",
       "       [0.0625    , 0.19689737, 0.36986301, 0.21824104, 0.23668639],\n",
       "       [0.5625    , 0.52147971, 0.54794521, 0.4267101 , 0.33136095],\n",
       "       [0.8125    , 0.        , 0.21917808, 0.06840391, 0.24852071],\n",
       "       [0.6875    , 0.19868735, 0.63013699, 0.27687296, 0.46153846],\n",
       "       [0.6875    , 0.1473747 , 0.45205479, 0.17263844, 0.19526627],\n",
       "       [1.        , 0.21420048, 0.24657534, 0.12703583, 0.27218935],\n",
       "       [0.625     , 0.13484487, 0.21917808, 0.03908795, 0.0887574 ],\n",
       "       [0.625     , 0.22076372, 0.09589041, 0.07491857, 0.        ],\n",
       "       [1.        , 0.14081146, 0.17808219, 0.03257329, 0.30769231],\n",
       "       [0.3125    , 0.49582339, 0.61643836, 0.36156352, 0.43786982],\n",
       "       [0.5625    , 0.3048926 , 0.28767123, 0.10749186, 0.15976331],\n",
       "       [0.5625    , 0.12350835, 0.34246575, 0.05537459, 0.33727811],\n",
       "       [0.0625    , 0.56682578, 0.47945205, 0.28990228, 0.33727811],\n",
       "       [0.5       , 0.27147971, 0.60273973, 0.32247557, 0.40236686],\n",
       "       [0.8125    , 0.19391408, 0.15068493, 0.        , 0.27810651],\n",
       "       [0.875     , 0.01372315, 0.38356164, 0.04885993, 0.19526627],\n",
       "       [0.375     , 0.06563246, 0.5890411 , 0.14006515, 0.82248521],\n",
       "       [1.        , 0.01193317, 0.73972603, 0.16938111, 0.28402367],\n",
       "       [0.1875    , 0.26491647, 0.47945205, 0.53094463, 0.35502959],\n",
       "       [0.9375    , 0.03520286, 0.09589041, 0.16286645, 0.58579882],\n",
       "       [0.4375    , 0.17720764, 0.57534247, 0.28664495, 0.33136095],\n",
       "       [0.125     , 0.27804296, 0.64383562, 0.35830619, 0.35502959],\n",
       "       [0.1875    , 0.03997613, 0.46575342, 0.13029316, 0.21893491],\n",
       "       [0.5625    , 0.11455847, 0.15068493, 0.02931596, 0.10059172],\n",
       "       [0.4375    , 0.02923628, 0.50684932, 0.33550489, 0.44970414],\n",
       "       [0.5       , 0.17959427, 0.38356164, 0.04560261, 0.14201183],\n",
       "       [0.75      , 0.55369928, 0.2739726 , 0.21172638, 0.13609467],\n",
       "       [0.        , 0.02505967, 0.38356164, 0.37459283, 0.32544379],\n",
       "       [0.75      , 0.43377088, 0.50684932, 0.4723127 , 0.34319527],\n",
       "       [0.8125    , 0.22792363, 0.42465753, 0.29315961, 0.18343195],\n",
       "       [0.5625    , 0.16050119, 0.30136986, 0.09771987, 0.21893491],\n",
       "       [0.75      , 0.36754177, 0.30136986, 0.14983713, 0.26627219],\n",
       "       [0.0625    , 0.21300716, 0.80821918, 0.21824104, 0.62130178],\n",
       "       [0.125     , 0.4797136 , 0.50684932, 0.57654723, 0.47337278],\n",
       "       [0.4375    , 0.62231504, 0.80821918, 1.        , 0.92307692],\n",
       "       [0.8125    , 0.18138425, 0.39726027, 0.18566775, 0.21893491],\n",
       "       [0.0625    , 0.11933174, 0.54794521, 0.18241042, 0.28994083],\n",
       "       [0.5       , 0.18973747, 0.52054795, 0.37785016, 0.34911243],\n",
       "       [0.0625    , 1.        , 0.49315068, 0.74592834, 0.28402367],\n",
       "       [0.6875    , 0.5548926 , 0.71232877, 0.45928339, 0.16568047],\n",
       "       [1.        , 0.14379475, 0.36986301, 0.11074919, 0.43195266],\n",
       "       [0.3125    , 0.52088305, 0.39726027, 0.21824104, 0.46153846],\n",
       "       [0.625     , 0.26610979, 0.32876712, 0.19869707, 0.43195266],\n",
       "       [0.625     , 0.52147971, 0.2739726 , 0.27035831, 0.35502959],\n",
       "       [0.125     , 0.1575179 , 0.24657534, 0.18241042, 0.34319527],\n",
       "       [0.1875    , 0.26849642, 0.5890411 , 0.31270358, 0.4556213 ],\n",
       "       [0.875     , 0.27505967, 0.2739726 , 0.15635179, 0.20118343],\n",
       "       [0.0625    , 0.31384248, 0.30136986, 0.21498371, 0.21893491],\n",
       "       [0.3125    , 0.20883055, 0.05479452, 0.04234528, 0.02366864],\n",
       "       [0.0625    , 0.21062053, 0.43835616, 0.14332248, 0.17159763],\n",
       "       [0.8125    , 0.30071599, 0.46575342, 0.38110749, 0.30177515],\n",
       "       [0.875     , 0.63365155, 0.28767123, 0.3029316 , 0.44378698],\n",
       "       [0.8125    , 0.14856802, 0.47945205, 0.10749186, 0.32544379],\n",
       "       [0.625     , 0.05548926, 0.43835616, 0.04885993, 0.        ],\n",
       "       [0.75      , 0.12589499, 0.2739726 , 0.12052117, 0.15976331],\n",
       "       [0.4375    , 0.26312649, 0.38356164, 0.247557  , 0.31360947]])"
      ]
     },
     "execution_count": 18,
     "metadata": {},
     "output_type": "execute_result"
    }
   ],
   "source": [
    "X"
   ]
  },
  {
   "cell_type": "markdown",
   "id": "9c16e189",
   "metadata": {},
   "source": [
    "## Divisão dos dados"
   ]
  },
  {
   "cell_type": "markdown",
   "id": "44994a00",
   "metadata": {},
   "source": [
    "Estamos preparados para a divisão dos dados de treino e teste"
   ]
  },
  {
   "cell_type": "code",
   "execution_count": 19,
   "id": "921e6fe3",
   "metadata": {},
   "outputs": [],
   "source": [
    "from sklearn.model_selection import train_test_split\n",
    "\n",
    "# 70% treino, 30% teste\n",
    "Xtrain,Xtest,Ytrain,Ytest = train_test_split(X,Y,test_size=0.3,random_state=7)\n"
   ]
  },
  {
   "cell_type": "markdown",
   "id": "8923e6f3",
   "metadata": {},
   "source": [
    "Representando a divisão proporcial dos dados"
   ]
  },
  {
   "cell_type": "code",
   "execution_count": 20,
   "id": "8aa1081c",
   "metadata": {
    "scrolled": false
   },
   "outputs": [
    {
     "data": {
      "image/png": "[encoded data removed]",
      "text/plain": [
       "<Figure size 576x576 with 1 Axes>"
      ]
     },
     "metadata": {},
     "output_type": "display_data"
    }
   ],
   "source": [
    "# Tamanho da figura\n",
    "fig, ax = plt.subplots(1, 1, figsize=(8,8))\n",
    "\n",
    "# valores para grafico\n",
    "x_graph = ['X', 'Y']\n",
    "test = [len(Xtest), len(Ytest)] \n",
    "train = [len(Xtrain), len(Ytrain)]\n",
    "\n",
    "#gráfico\n",
    "plt.bar(x_graph, test,\n",
    "        width=0.4,\n",
    "       color=light_slate_gray) \n",
    "\n",
    "plt.bar(x_graph, train,\n",
    "        bottom=test,\n",
    "       width=0.4,\n",
    "       color = royal_blue)\n",
    "\n",
    "\n",
    "plt.legend([\"Dados teste\", \"Dados treino\"])\n",
    "plt.show() \n"
   ]
  },
  {
   "cell_type": "markdown",
   "id": "1cff4bdd",
   "metadata": {},
   "source": [
    "## Modelos de classificação"
   ]
  },
  {
   "cell_type": "code",
   "execution_count": 21,
   "id": "6705d094",
   "metadata": {},
   "outputs": [],
   "source": [
    "nome_metodo = []\n",
    "acuracia_metodo = []\n",
    "seed = 52"
   ]
  },
  {
   "cell_type": "markdown",
   "id": "4eee909b",
   "metadata": {},
   "source": [
    "### Random Forest"
   ]
  },
  {
   "cell_type": "code",
   "execution_count": 22,
   "id": "a01919b9",
   "metadata": {},
   "outputs": [
    {
     "name": "stdout",
     "output_type": "stream",
     "text": [
      "Acurácia: 83.333%\n"
     ]
    },
    {
     "data": {
      "text/plain": [
       "<AxesSubplot:>"
      ]
     },
     "execution_count": 22,
     "metadata": {},
     "output_type": "execute_result"
    },
    {
     "data": {
      "image/png": "[encoded data removed]",
      "text/plain": [
       "<Figure size 360x360 with 2 Axes>"
      ]
     },
     "metadata": {},
     "output_type": "display_data"
    }
   ],
   "source": [
    "from sklearn.ensemble import RandomForestClassifier\n",
    "\n",
    "\n",
    "randomf = RandomForestClassifier(n_estimators=200,random_state=seed)\n",
    "randomf.fit(Xtrain,Ytrain)\n",
    "pred_randomf = randomf.predict(Xtest)\n",
    "\n",
    "\n",
    "\n",
    "# Avaliando as previsões\n",
    "accuracy_rf = accuracy_score(Ytest, pred_randomf)*100\n",
    "print(\"Acurácia: %.3f%%\" % (accuracy_rf))\n",
    "\n",
    "\n",
    "nome_metodo.append(\"Random Forest\")\n",
    "acuracia_metodo.append(accuracy_rf)\n",
    "\n",
    "\n",
    "\n",
    "\n",
    "# Matriz de confusão\n",
    "mc_random = confusion_matrix(Ytest,pred_randomf)\n",
    "plt.figure(figsize=(5,5))\n",
    "sns.heatmap(mc_random,annot=True,vmin=0)\n",
    "\n"
   ]
  },
  {
   "cell_type": "markdown",
   "id": "1700aaf1",
   "metadata": {},
   "source": [
    "### Decision Tree"
   ]
  },
  {
   "cell_type": "code",
   "execution_count": 23,
   "id": "101231b8",
   "metadata": {},
   "outputs": [
    {
     "name": "stdout",
     "output_type": "stream",
     "text": [
      "Acurácia: 86.667%\n"
     ]
    },
    {
     "data": {
      "text/plain": [
       "<AxesSubplot:>"
      ]
     },
     "execution_count": 23,
     "metadata": {},
     "output_type": "execute_result"
    },
    {
     "data": {
      "image/png": "[encoded data removed]",
      "text/plain": [
       "<Figure size 360x360 with 2 Axes>"
      ]
     },
     "metadata": {},
     "output_type": "display_data"
    }
   ],
   "source": [
    "from sklearn.tree import DecisionTreeClassifier\n",
    "\n",
    "dtree = DecisionTreeClassifier(random_state=seed)\n",
    "dtree.fit(Xtrain,Ytrain)\n",
    "pred_dtree = dtree.predict(Xtest)\n",
    "\n",
    "\n",
    "\n",
    "# Avaliando as previsões\n",
    "accuracy_dt = accuracy_score(Ytest, pred_dtree)*100\n",
    "print(\"Acurácia: %.3f%%\" % (accuracy_dt))\n",
    "\n",
    "\n",
    "\n",
    "nome_metodo.append(\"Decision Tree\")\n",
    "acuracia_metodo.append(accuracy_dt)\n",
    "\n",
    "\n",
    "\n",
    "\n",
    "# Matriz de confusão\n",
    "mc_dtree = confusion_matrix(Ytest,pred_dtree)\n",
    "plt.figure(figsize=(5,5))\n",
    "sns.heatmap(mc_dtree,annot=True,vmin=0)\n"
   ]
  },
  {
   "cell_type": "markdown",
   "id": "8feb3a93",
   "metadata": {},
   "source": [
    "###  KNN"
   ]
  },
  {
   "cell_type": "code",
   "execution_count": 24,
   "id": "eabd5ba2",
   "metadata": {
    "scrolled": false
   },
   "outputs": [
    {
     "name": "stdout",
     "output_type": "stream",
     "text": [
      "Acurácia: 73.333%\n"
     ]
    },
    {
     "data": {
      "text/plain": [
       "<AxesSubplot:>"
      ]
     },
     "execution_count": 24,
     "metadata": {},
     "output_type": "execute_result"
    },
    {
     "data": {
      "image/png": "[encoded data removed]",
      "text/plain": [
       "<Figure size 360x360 with 2 Axes>"
      ]
     },
     "metadata": {},
     "output_type": "display_data"
    }
   ],
   "source": [
    "from sklearn.neighbors import KNeighborsClassifier\n",
    "\n",
    "knn = KNeighborsClassifier(n_neighbors=5)\n",
    "knn.fit(Xtrain,Ytrain)\n",
    "pred_knn = knn.predict(Xtest)\n",
    "\n",
    "\n",
    "\n",
    "# Avaliando as previsões\n",
    "accuracy_kn = accuracy_score(Ytest, pred_knn)*100\n",
    "print(\"Acurácia: %.3f%%\" % (accuracy_kn))\n",
    "\n",
    "\n",
    "nome_metodo.append(\"KNN\")\n",
    "acuracia_metodo.append(accuracy_kn)\n",
    "\n",
    "\n",
    "\n",
    "\n",
    "# Matriz de confusão\n",
    "mc_knn = confusion_matrix(Ytest,pred_knn)\n",
    "plt.figure(figsize=(5,5))\n",
    "sns.heatmap(mc_knn,annot=True,vmin=0)\n"
   ]
  },
  {
   "cell_type": "markdown",
   "id": "82710d43",
   "metadata": {},
   "source": [
    "### Logistic Regression"
   ]
  },
  {
   "cell_type": "code",
   "execution_count": 25,
   "id": "8bb6ab8a",
   "metadata": {},
   "outputs": [
    {
     "name": "stdout",
     "output_type": "stream",
     "text": [
      "Acurácia: 66.667%\n"
     ]
    },
    {
     "data": {
      "text/plain": [
       "<AxesSubplot:>"
      ]
     },
     "execution_count": 25,
     "metadata": {},
     "output_type": "execute_result"
    },
    {
     "data": {
      "image/png": "[encoded data removed]",
      "text/plain": [
       "<Figure size 360x360 with 2 Axes>"
      ]
     },
     "metadata": {},
     "output_type": "display_data"
    }
   ],
   "source": [
    "from sklearn.linear_model import LogisticRegression\n",
    "\n",
    "logreg = LogisticRegression(random_state=seed)\n",
    "logreg.fit(Xtrain,Ytrain)\n",
    "pred_logreg = logreg.predict(Xtest)\n",
    "\n",
    "\n",
    "# Avaliando as previsões\n",
    "accuracy_lr = accuracy_score(Ytest, pred_logreg)*100\n",
    "print(\"Acurácia: %.3f%%\" % accuracy_lr)\n",
    "\n",
    "\n",
    "\n",
    "nome_metodo.append(\"Logistic Regression\")\n",
    "acuracia_metodo.append(accuracy_lr)\n",
    "\n",
    "\n",
    "# Matriz de confusão\n",
    "mc_logreg = confusion_matrix(Ytest,pred_logreg)\n",
    "plt.figure(figsize=(5,5))\n",
    "sns.heatmap(mc_logreg,annot=True,vmin=0)\n"
   ]
  },
  {
   "cell_type": "markdown",
   "id": "18517c0a",
   "metadata": {},
   "source": [
    "## Comparação"
   ]
  },
  {
   "cell_type": "code",
   "execution_count": 26,
   "id": "5cc0ccad",
   "metadata": {},
   "outputs": [
    {
     "data": {
      "text/plain": [
       "Text(-0.6, 57, 'Comparação de score entre os modelos (%)')"
      ]
     },
     "execution_count": 26,
     "metadata": {},
     "output_type": "execute_result"
    },
    {
     "data": {
      "image/png": "[encoded data removed]",
      "text/plain": [
       "<Figure size 576x576 with 1 Axes>"
      ]
     },
     "metadata": {},
     "output_type": "display_data"
    }
   ],
   "source": [
    "# Tamanho da figura\n",
    "fig2, ax = plt.subplots(1, 1, figsize=(8,8))\n",
    "\n",
    "\n",
    "#figura\n",
    "sns.barplot(x = nome_metodo,y = acuracia_metodo,\n",
    "           palette=[light_slate_gray,royal_blue,light_slate_gray,light_slate_gray])\n",
    "plt.ylim([60,91])\n",
    "\n",
    "\n",
    "\n",
    "#titulo e texto\n",
    "plt.title('Decision Tree obeteve a melhor performance neste experimento.', fontdict={'size':16})\n",
    "plt.text(-0.6,57,'Comparação de score entre os modelos (%)',fontdict={'size':12})"
   ]
  }
 ],
 "metadata": {
  "kernelspec": {
   "display_name": "Python 3 (ipykernel)",
   "language": "python",
   "name": "python3"
  },
  "language_info": {
   "codemirror_mode": {
    "name": "ipython",
    "version": 3
   },
   "file_extension": ".py",
   "mimetype": "text/x-python",
   "name": "python",
   "nbconvert_exporter": "python",
   "pygments_lexer": "ipython3",
   "version": "3.9.12"
  }
 },
 "nbformat": 4,
 "nbformat_minor": 5
}
